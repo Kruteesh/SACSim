{
 "cells": [
  {
   "cell_type": "code",
   "execution_count": 1,
   "metadata": {},
   "outputs": [],
   "source": [
    "# Sun_Analytical_Test\n",
    "# Authors: Stephan Meighen-Berger\n",
    "# Testing ground for the analytical calculation"
   ]
  },
  {
   "cell_type": "code",
   "execution_count": 2,
   "metadata": {},
   "outputs": [],
   "source": [
    "# Imports\n",
    "import numpy as np\n",
    "import pandas as pd\n",
    "import matplotlib.pyplot as plt\n",
    "from scipy.integrate import odeint"
   ]
  },
  {
   "cell_type": "code",
   "execution_count": 114,
   "metadata": {
    "scrolled": true
   },
   "outputs": [
    {
     "name": "stdout",
     "output_type": "stream",
     "text": [
      "C_pi_int: 0.75\n",
      "C_pi_dec: 0.75\n"
     ]
    }
   ],
   "source": [
    "# Input values\n",
    "# Primary flux\n",
    "e_grid = np.logspace(0., 10., 101)\n",
    "primary_flux_norm = 1.\n",
    "gamma = 2.\n",
    "primary_flux = primary_flux_norm * e_grid**(-gamma)\n",
    "# Interaction lengths\n",
    "interaction_length_p = 1.\n",
    "interaction_length_pi = 0.5\n",
    "# Z kernels\n",
    "Z_pp = 0.5\n",
    "Z_ppi = 0.75\n",
    "Z_pipi = 0.25\n",
    "# Beta functions\n",
    "beta_pi = 1. / 1000.\n",
    "beta_mu = 1. / 2000.\n",
    "# Lambdas\n",
    "Lambda_p = interaction_length_p / (1. - Z_pp)\n",
    "Lambda_pi = interaction_length_pi / (1. - Z_pipi)\n",
    "# Energy transfer constants\n",
    "a_mu = 0.9\n",
    "a_nu = 0.5\n",
    "# Lazy constants\n",
    "c_pi_int = (primary_flux_norm * \n",
    "    Z_ppi / (1. - Z_pp) *\n",
    "    Lambda_pi / (Lambda_p - Lambda_pi)\n",
    ")\n",
    "print(\"C_pi_int: %.2f\" %(c_pi_int))\n",
    "c_pi_dec = (\n",
    "    Z_ppi / interaction_length_p\n",
    ")\n",
    "print(\"C_pi_dec: %.2f\" %(c_pi_dec))"
   ]
  },
  {
   "cell_type": "code",
   "execution_count": 115,
   "metadata": {},
   "outputs": [],
   "source": [
    "# Analytical flux equations\n",
    "def dphidX_dec(X, phi, E):\n",
    "    \"\"\" Differential equation for the pi decay assumption\n",
    "\n",
    "    Parameters\n",
    "    ----------\n",
    "    X : float\n",
    "        The cascade depth\n",
    "    phi : float\n",
    "        The current flux\n",
    "    E : float\n",
    "        The energy of interest\n",
    "\n",
    "    Returns\n",
    "    -------\n",
    "    float\n",
    "        The resulting differential flux value\n",
    "    \"\"\"\n",
    "    loss = -phi / (X * E * beta_mu)\n",
    "    gain = (\n",
    "        c_pi_dec * (E/a_mu)**(-(gamma)) * primary_flux_norm * E**(-(gamma)) *\n",
    "        (np.exp(-X/Lambda_p))\n",
    "    )\n",
    "    return np.nan_to_num(loss + gain)"
   ]
  },
  {
   "cell_type": "code",
   "execution_count": 116,
   "metadata": {},
   "outputs": [],
   "source": [
    "# Analytical solution\n",
    "def phi_mu_dec(X, E):\n",
    "    \"\"\" Analytical solution for the pi decay assumption\n",
    "\n",
    "    Parameters\n",
    "    ----------\n",
    "    X : float\n",
    "        The cascade depth\n",
    "    E : np.array\n",
    "        The energy of interest\n",
    "\n",
    "    Returns\n",
    "    -------\n",
    "    np.array\n",
    "        The resulting differential flux value\n",
    "    \"\"\"\n",
    "    prefac = (\n",
    "        c_pi_dec * beta_mu * a_mu**(gamma) * primary_flux_norm * E**(-gamma)\n",
    "    )\n",
    "    var = X * np.exp(-X/Lambda_p) * E**(-gamma + 1.)\n",
    "    return prefac * var"
   ]
  },
  {
   "cell_type": "code",
   "execution_count": 180,
   "metadata": {},
   "outputs": [
    {
     "name": "stderr",
     "output_type": "stream",
     "text": [
      "C:\\Users\\steph\\anaconda3\\lib\\site-packages\\ipykernel_launcher.py:19: RuntimeWarning: invalid value encountered in true_divide\n"
     ]
    }
   ],
   "source": [
    "# Solving\n",
    "particle_energy = 1e5\n",
    "x_points = np.linspace(0., 100., 101)\n",
    "res_dec = odeint(dphidX_dec, 0., x_points, args=(particle_energy, ), tfirst=True, rtol=1e-13, atol=1e-17)\n",
    "# sol_int = odeint(dphidX_int, 0., x_points, args=(1e4, ), tfirst=True)"
   ]
  },
  {
   "cell_type": "code",
   "execution_count": 181,
   "metadata": {},
   "outputs": [],
   "source": [
    "std_fig_size = 6.\n",
    "std_fontsize = 20.\n",
    "std_lw = 3.\n",
    "std_hlength = 2."
   ]
  },
  {
   "cell_type": "code",
   "execution_count": 184,
   "metadata": {},
   "outputs": [
    {
     "data": {
      "image/png": "[encoded data removed]",
      "text/plain": [
       "<Figure size 432x324 with 1 Axes>"
      ]
     },
     "metadata": {
      "needs_background": "light"
     },
     "output_type": "display_data"
    }
   ],
   "source": [
    "fig, ax = plt.subplots(figsize=(std_fig_size, std_fig_size * 6. / 8.))\n",
    "# ax.plot(x_points, res_dec[:, 0], color='b')\n",
    "ax.plot(x_points, phi_mu_dec(x_points, particle_energy), color='lightblue')\n",
    "ax.tick_params(axis = 'both', which = 'major', labelsize=std_fontsize, direction='in')\n",
    "ax.tick_params(axis = 'both', which = 'minor', labelsize=std_fontsize, direction='in')\n",
    "ax.set_xlabel(r'X', fontsize=std_fontsize)\n",
    "ax.set_ylabel(r'$E^{\\gamma - 1} \\phi_\\mu$', fontsize=std_fontsize)\n",
    "ax.set_xscale('linear')\n",
    "ax.set_yscale('log')\n",
    "plt.grid(True)\n",
    "plt.show()"
   ]
  },
  {
   "cell_type": "code",
   "execution_count": 183,
   "metadata": {},
   "outputs": [
    {
     "name": "stderr",
     "output_type": "stream",
     "text": [
      "C:\\Users\\steph\\anaconda3\\lib\\site-packages\\ipykernel_launcher.py:2: RuntimeWarning: invalid value encountered in true_divide\n",
      "  \n"
     ]
    },
    {
     "data": {
      "image/png": "[encoded data removed]",
      "text/plain": [
       "<Figure size 432x324 with 1 Axes>"
      ]
     },
     "metadata": {
      "needs_background": "light"
     },
     "output_type": "display_data"
    }
   ],
   "source": [
    "fig, ax = plt.subplots(figsize=(std_fig_size, std_fig_size * 6. / 8.))\n",
    "ax.plot(x_points, res_dec[:, 0] / phi_mu_dec(x_points, particle_energy), color='k')\n",
    "ax.tick_params(axis = 'both', which = 'major', labelsize=std_fontsize, direction='in')\n",
    "ax.tick_params(axis = 'both', which = 'minor', labelsize=std_fontsize, direction='in')\n",
    "ax.set_xlabel(r'X', fontsize=std_fontsize)\n",
    "ax.set_ylabel(r'$Frac$', fontsize=std_fontsize)\n",
    "ax.set_xscale('linear')\n",
    "ax.set_yscale('linear')\n",
    "ax.set_ylim(0.8, 2.)\n",
    "plt.grid(True)\n",
    "plt.show()"
   ]
  },
  {
   "cell_type": "code",
   "execution_count": null,
   "metadata": {},
   "outputs": [],
   "source": []
  }
 ],
 "metadata": {
  "kernelspec": {
   "display_name": "Python 3",
   "language": "python",
   "name": "python3"
  },
  "language_info": {
   "codemirror_mode": {
    "name": "ipython",
    "version": 3
   },
   "file_extension": ".py",
   "mimetype": "text/x-python",
   "name": "python",
   "nbconvert_exporter": "python",
   "pygments_lexer": "ipython3",
   "version": "3.7.6"
  }
 },
 "nbformat": 4,
 "nbformat_minor": 4
}
