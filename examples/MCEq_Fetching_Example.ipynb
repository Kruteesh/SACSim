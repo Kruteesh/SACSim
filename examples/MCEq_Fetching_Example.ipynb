{
 "cells": [
  {
   "cell_type": "code",
   "execution_count": 1,
   "metadata": {},
   "outputs": [],
   "source": [
    "# MCEq_Fetching_Example\n",
    "# Authors: Kruteesh Desai, Stephan Meighen-Berger\n",
    "# Example on how to fetch cross sections from MCEq"
   ]
  },
  {
   "cell_type": "code",
   "execution_count": 1,
   "metadata": {},
   "outputs": [],
   "source": [
    "#  Imports\n",
    "import numpy as np\n",
    "import matplotlib.pyplot as plt\n",
    "import pandas as pd\n",
    "import pickle"
   ]
  },
  {
   "cell_type": "code",
   "execution_count": 2,
   "metadata": {},
   "outputs": [],
   "source": [
    "# MCEq Imports\n",
    "from MCEq.core import MCEqRun\n",
    "import mceq_config as config\n",
    "#import primary model choices\n",
    "import crflux.models as pm"
   ]
  },
  {
   "cell_type": "code",
   "execution_count": 3,
   "metadata": {},
   "outputs": [],
   "source": [
    "# Silincing mceq, set to 1 or higher for output\n",
    "config.debug_level = 0\n",
    "# Launcing mceq\n",
    "mceq_run = MCEqRun(\n",
    "    #provide the string of the interaction model\n",
    "    interaction_model='EPOS-LHC',\n",
    "    #primary cosmic ray flux model\n",
    "    primary_model = (pm.HillasGaisser2012, \"H3a\"),\n",
    "    # Zenith angle in degrees. 0=vertical, 90=horizontal\n",
    "    theta_deg=0.0\n",
    ")"
   ]
  },
  {
   "cell_type": "code",
   "execution_count": 4,
   "metadata": {},
   "outputs": [
    {
     "data": {
      "text/plain": [
       "array([8.91250938e-02, 1.12201845e-01, 1.41253754e-01, 1.77827941e-01,\n",
       "       2.23872114e-01, 2.81838293e-01, 3.54813389e-01, 4.46683592e-01,\n",
       "       5.62341325e-01, 7.07945784e-01, 8.91250938e-01, 1.12201845e+00,\n",
       "       1.41253754e+00, 1.77827941e+00, 2.23872114e+00, 2.81838293e+00,\n",
       "       3.54813389e+00, 4.46683592e+00, 5.62341325e+00, 7.07945784e+00,\n",
       "       8.91250938e+00, 1.12201845e+01, 1.41253754e+01, 1.77827941e+01,\n",
       "       2.23872114e+01, 2.81838293e+01, 3.54813389e+01, 4.46683592e+01,\n",
       "       5.62341325e+01, 7.07945784e+01, 8.91250938e+01, 1.12201845e+02,\n",
       "       1.41253754e+02, 1.77827941e+02, 2.23872114e+02, 2.81838293e+02,\n",
       "       3.54813389e+02, 4.46683592e+02, 5.62341325e+02, 7.07945784e+02,\n",
       "       8.91250938e+02, 1.12201845e+03, 1.41253754e+03, 1.77827941e+03,\n",
       "       2.23872114e+03, 2.81838293e+03, 3.54813389e+03, 4.46683592e+03,\n",
       "       5.62341325e+03, 7.07945784e+03, 8.91250938e+03, 1.12201845e+04,\n",
       "       1.41253754e+04, 1.77827941e+04, 2.23872114e+04, 2.81838293e+04,\n",
       "       3.54813389e+04, 4.46683592e+04, 5.62341325e+04, 7.07945784e+04,\n",
       "       8.91250938e+04, 1.12201845e+05, 1.41253754e+05, 1.77827941e+05,\n",
       "       2.23872114e+05, 2.81838293e+05, 3.54813389e+05, 4.46683592e+05,\n",
       "       5.62341325e+05, 7.07945784e+05, 8.91250938e+05, 1.12201845e+06,\n",
       "       1.41253754e+06, 1.77827941e+06, 2.23872114e+06, 2.81838293e+06,\n",
       "       3.54813389e+06, 4.46683592e+06, 5.62341325e+06, 7.07945784e+06,\n",
       "       8.91250938e+06, 1.12201845e+07, 1.41253754e+07, 1.77827941e+07,\n",
       "       2.23872114e+07, 2.81838293e+07, 3.54813389e+07, 4.46683592e+07,\n",
       "       5.62341325e+07, 7.07945784e+07, 8.91250938e+07, 1.12201845e+08,\n",
       "       1.41253754e+08, 1.77827941e+08, 2.23872114e+08, 2.81838293e+08,\n",
       "       3.54813389e+08, 4.46683592e+08, 5.62341325e+08, 7.07945784e+08,\n",
       "       8.91250938e+08, 1.12201845e+09, 1.41253754e+09, 1.77827941e+09,\n",
       "       2.23872114e+09, 2.81838293e+09, 3.54813389e+09, 4.46683592e+09,\n",
       "       5.62341325e+09, 7.07945784e+09, 8.91250938e+09, 1.12201845e+10,\n",
       "       1.41253754e+10, 1.77827941e+10, 2.23872114e+10, 2.81838293e+10,\n",
       "       3.54813389e+10, 4.46683592e+10, 5.62341325e+10, 7.07945784e+10,\n",
       "       8.91250938e+10])"
      ]
     },
     "execution_count": 4,
     "metadata": {},
     "output_type": "execute_result"
    }
   ],
   "source": [
    "# Energy grid\n",
    "mceq_run.e_grid"
   ]
  },
  {
   "cell_type": "code",
   "execution_count": 11,
   "metadata": {},
   "outputs": [
    {
     "data": {
      "text/plain": [
       "[\n",
       "         Lambdabar0:\n",
       "         is_hadron     : True\n",
       "         is_lepton     : False\n",
       "         is_nucleus    : False\n",
       "         is_stable     : False\n",
       "         is_mixed      : True\n",
       "         is_resonance  : False\n",
       "         is_tracking   : False\n",
       "         is_projectile : True\n",
       "         mceqidx       : 24\n",
       "         E_mix         : 5.6e+03 GeV,\n",
       " \n",
       "         pbar-:\n",
       "         is_hadron     : True\n",
       "         is_lepton     : False\n",
       "         is_nucleus    : False\n",
       "         is_stable     : True\n",
       "         is_mixed      : False\n",
       "         is_resonance  : False\n",
       "         is_tracking   : False\n",
       "         is_projectile : True\n",
       "         mceqidx       : 22\n",
       "         E_mix         : 0.0e+00 GeV,\n",
       " \n",
       "         nbar0:\n",
       "         is_hadron     : True\n",
       "         is_lepton     : False\n",
       "         is_nucleus    : False\n",
       "         is_stable     : False\n",
       "         is_mixed      : True\n",
       "         is_resonance  : False\n",
       "         is_tracking   : False\n",
       "         is_projectile : True\n",
       "         mceqidx       : 20\n",
       "         E_mix         : 5.6e-01 GeV,\n",
       " \n",
       "         K-:\n",
       "         is_hadron     : True\n",
       "         is_lepton     : False\n",
       "         is_nucleus    : False\n",
       "         is_stable     : False\n",
       "         is_mixed      : True\n",
       "         is_resonance  : False\n",
       "         is_tracking   : False\n",
       "         is_projectile : True\n",
       "         mceqidx       : 18\n",
       "         E_mix         : 8.9e+01 GeV,\n",
       " \n",
       "         pi-:\n",
       "         is_hadron     : True\n",
       "         is_lepton     : False\n",
       "         is_nucleus    : False\n",
       "         is_stable     : False\n",
       "         is_mixed      : True\n",
       "         is_resonance  : False\n",
       "         is_tracking   : False\n",
       "         is_projectile : True\n",
       "         mceqidx       : 15\n",
       "         E_mix         : 8.9e+00 GeV,\n",
       " \n",
       "         antinumu:\n",
       "         is_hadron     : False\n",
       "         is_lepton     : True\n",
       "         is_nucleus    : False\n",
       "         is_stable     : True\n",
       "         is_mixed      : False\n",
       "         is_resonance  : False\n",
       "         is_tracking   : False\n",
       "         is_projectile : False\n",
       "         mceqidx       : 10\n",
       "         E_mix         : 0.0e+00 GeV,\n",
       " \n",
       "         mu+:\n",
       "         is_hadron     : False\n",
       "         is_lepton     : True\n",
       "         is_nucleus    : False\n",
       "         is_stable     : False\n",
       "         is_mixed      : False\n",
       "         is_resonance  : False\n",
       "         is_tracking   : False\n",
       "         is_projectile : False\n",
       "         mceqidx       : 5\n",
       "         E_mix         : 0.0e+00 GeV,\n",
       " \n",
       "         antinue:\n",
       "         is_hadron     : False\n",
       "         is_lepton     : True\n",
       "         is_nucleus    : False\n",
       "         is_stable     : True\n",
       "         is_mixed      : False\n",
       "         is_resonance  : False\n",
       "         is_tracking   : False\n",
       "         is_projectile : False\n",
       "         mceqidx       : 2\n",
       "         E_mix         : 0.0e+00 GeV,\n",
       " \n",
       "         e+:\n",
       "         is_hadron     : False\n",
       "         is_lepton     : True\n",
       "         is_nucleus    : False\n",
       "         is_stable     : True\n",
       "         is_mixed      : False\n",
       "         is_resonance  : False\n",
       "         is_tracking   : False\n",
       "         is_projectile : False\n",
       "         mceqidx       : 0\n",
       "         E_mix         : 0.0e+00 GeV,\n",
       " \n",
       "         e-:\n",
       "         is_hadron     : False\n",
       "         is_lepton     : True\n",
       "         is_nucleus    : False\n",
       "         is_stable     : True\n",
       "         is_mixed      : False\n",
       "         is_resonance  : False\n",
       "         is_tracking   : False\n",
       "         is_projectile : False\n",
       "         mceqidx       : 1\n",
       "         E_mix         : 0.0e+00 GeV,\n",
       " \n",
       "         nue:\n",
       "         is_hadron     : False\n",
       "         is_lepton     : True\n",
       "         is_nucleus    : False\n",
       "         is_stable     : True\n",
       "         is_mixed      : False\n",
       "         is_resonance  : False\n",
       "         is_tracking   : False\n",
       "         is_projectile : False\n",
       "         mceqidx       : 3\n",
       "         E_mix         : 0.0e+00 GeV,\n",
       " \n",
       "         mu-:\n",
       "         is_hadron     : False\n",
       "         is_lepton     : True\n",
       "         is_nucleus    : False\n",
       "         is_stable     : False\n",
       "         is_mixed      : False\n",
       "         is_resonance  : False\n",
       "         is_tracking   : False\n",
       "         is_projectile : False\n",
       "         mceqidx       : 8\n",
       "         E_mix         : 0.0e+00 GeV,\n",
       " \n",
       "         numu:\n",
       "         is_hadron     : False\n",
       "         is_lepton     : True\n",
       "         is_nucleus    : False\n",
       "         is_stable     : True\n",
       "         is_mixed      : False\n",
       "         is_resonance  : False\n",
       "         is_tracking   : False\n",
       "         is_projectile : False\n",
       "         mceqidx       : 11\n",
       "         E_mix         : 0.0e+00 GeV,\n",
       " \n",
       "         gamma:\n",
       "         is_hadron     : False\n",
       "         is_lepton     : True\n",
       "         is_nucleus    : False\n",
       "         is_stable     : True\n",
       "         is_mixed      : False\n",
       "         is_resonance  : False\n",
       "         is_tracking   : False\n",
       "         is_projectile : False\n",
       "         mceqidx       : 12\n",
       "         E_mix         : 0.0e+00 GeV,\n",
       " \n",
       "         pi0:\n",
       "         is_hadron     : True\n",
       "         is_lepton     : False\n",
       "         is_nucleus    : False\n",
       "         is_stable     : False\n",
       "         is_mixed      : True\n",
       "         is_resonance  : False\n",
       "         is_tracking   : False\n",
       "         is_projectile : True\n",
       "         mceqidx       : 13\n",
       "         E_mix         : 1.4e+09 GeV,\n",
       " \n",
       "         K_L0:\n",
       "         is_hadron     : True\n",
       "         is_lepton     : False\n",
       "         is_nucleus    : False\n",
       "         is_stable     : False\n",
       "         is_mixed      : True\n",
       "         is_resonance  : False\n",
       "         is_tracking   : False\n",
       "         is_projectile : True\n",
       "         mceqidx       : 14\n",
       "         E_mix         : 2.2e+01 GeV,\n",
       " \n",
       "         pi+:\n",
       "         is_hadron     : True\n",
       "         is_lepton     : False\n",
       "         is_nucleus    : False\n",
       "         is_stable     : False\n",
       "         is_mixed      : True\n",
       "         is_resonance  : False\n",
       "         is_tracking   : False\n",
       "         is_projectile : True\n",
       "         mceqidx       : 16\n",
       "         E_mix         : 8.9e+00 GeV,\n",
       " \n",
       "         K_S0:\n",
       "         is_hadron     : True\n",
       "         is_lepton     : False\n",
       "         is_nucleus    : False\n",
       "         is_stable     : False\n",
       "         is_mixed      : True\n",
       "         is_resonance  : False\n",
       "         is_tracking   : False\n",
       "         is_projectile : True\n",
       "         mceqidx       : 17\n",
       "         E_mix         : 8.9e+03 GeV,\n",
       " \n",
       "         K+:\n",
       "         is_hadron     : True\n",
       "         is_lepton     : False\n",
       "         is_nucleus    : False\n",
       "         is_stable     : False\n",
       "         is_mixed      : True\n",
       "         is_resonance  : False\n",
       "         is_tracking   : False\n",
       "         is_projectile : True\n",
       "         mceqidx       : 19\n",
       "         E_mix         : 8.9e+01 GeV,\n",
       " \n",
       "         n0:\n",
       "         is_hadron     : True\n",
       "         is_lepton     : False\n",
       "         is_nucleus    : False\n",
       "         is_stable     : False\n",
       "         is_mixed      : True\n",
       "         is_resonance  : False\n",
       "         is_tracking   : False\n",
       "         is_projectile : True\n",
       "         mceqidx       : 21\n",
       "         E_mix         : 5.6e-01 GeV,\n",
       " \n",
       "         p+:\n",
       "         is_hadron     : True\n",
       "         is_lepton     : False\n",
       "         is_nucleus    : False\n",
       "         is_stable     : True\n",
       "         is_mixed      : False\n",
       "         is_resonance  : False\n",
       "         is_tracking   : False\n",
       "         is_projectile : True\n",
       "         mceqidx       : 23\n",
       "         E_mix         : 0.0e+00 GeV,\n",
       " \n",
       "         Lambda0:\n",
       "         is_hadron     : True\n",
       "         is_lepton     : False\n",
       "         is_nucleus    : False\n",
       "         is_stable     : False\n",
       "         is_mixed      : True\n",
       "         is_resonance  : False\n",
       "         is_tracking   : False\n",
       "         is_projectile : True\n",
       "         mceqidx       : 25\n",
       "         E_mix         : 5.6e+03 GeV,\n",
       " \n",
       "         prres_antinue:\n",
       "         is_hadron     : False\n",
       "         is_lepton     : True\n",
       "         is_nucleus    : False\n",
       "         is_stable     : True\n",
       "         is_mixed      : False\n",
       "         is_resonance  : False\n",
       "         is_tracking   : True\n",
       "         is_projectile : False\n",
       "         mceqidx       : 60\n",
       "         E_mix         : 0.0e+00 GeV,\n",
       " \n",
       "         prres_nue:\n",
       "         is_hadron     : False\n",
       "         is_lepton     : True\n",
       "         is_nucleus    : False\n",
       "         is_stable     : True\n",
       "         is_mixed      : False\n",
       "         is_resonance  : False\n",
       "         is_tracking   : True\n",
       "         is_projectile : False\n",
       "         mceqidx       : 61\n",
       "         E_mix         : 0.0e+00 GeV,\n",
       " \n",
       "         prres_mu+:\n",
       "         is_hadron     : False\n",
       "         is_lepton     : True\n",
       "         is_nucleus    : False\n",
       "         is_stable     : False\n",
       "         is_mixed      : False\n",
       "         is_resonance  : False\n",
       "         is_tracking   : True\n",
       "         is_projectile : False\n",
       "         mceqidx       : 62\n",
       "         E_mix         : 0.0e+00 GeV,\n",
       " \n",
       "         prres_mu-:\n",
       "         is_hadron     : False\n",
       "         is_lepton     : True\n",
       "         is_nucleus    : False\n",
       "         is_stable     : False\n",
       "         is_mixed      : False\n",
       "         is_resonance  : False\n",
       "         is_tracking   : True\n",
       "         is_projectile : False\n",
       "         mceqidx       : 63\n",
       "         E_mix         : 0.0e+00 GeV,\n",
       " \n",
       "         prres_antinumu:\n",
       "         is_hadron     : False\n",
       "         is_lepton     : True\n",
       "         is_nucleus    : False\n",
       "         is_stable     : True\n",
       "         is_mixed      : False\n",
       "         is_resonance  : False\n",
       "         is_tracking   : True\n",
       "         is_projectile : False\n",
       "         mceqidx       : 64\n",
       "         E_mix         : 0.0e+00 GeV,\n",
       " \n",
       "         prres_numu:\n",
       "         is_hadron     : False\n",
       "         is_lepton     : True\n",
       "         is_nucleus    : False\n",
       "         is_stable     : True\n",
       "         is_mixed      : False\n",
       "         is_resonance  : False\n",
       "         is_tracking   : True\n",
       "         is_projectile : False\n",
       "         mceqidx       : 65\n",
       "         E_mix         : 0.0e+00 GeV]"
      ]
     },
     "execution_count": 11,
     "metadata": {},
     "output_type": "execute_result"
    }
   ],
   "source": [
    "# Checking all secondaries\n",
    "mceq_run.pman[2212].hadr_secondaries"
   ]
  },
  {
   "cell_type": "code",
   "execution_count": 6,
   "metadata": {},
   "outputs": [
    {
     "data": {
      "text/plain": [
       "\n",
       "        p+:\n",
       "        is_hadron     : True\n",
       "        is_lepton     : False\n",
       "        is_nucleus    : False\n",
       "        is_stable     : True\n",
       "        is_mixed      : False\n",
       "        is_resonance  : False\n",
       "        is_tracking   : False\n",
       "        is_projectile : True\n",
       "        mceqidx       : 23\n",
       "        E_mix         : 0.0e+00 GeV"
      ]
     },
     "execution_count": 6,
     "metadata": {},
     "output_type": "execute_result"
    }
   ],
   "source": [
    "# Fetch a particle using its pdg id\n",
    "mceq_run.pman[2212]"
   ]
  },
  {
   "cell_type": "code",
   "execution_count": 7,
   "metadata": {},
   "outputs": [
    {
     "name": "stdout",
     "output_type": "stream",
     "text": [
      "[[1.84722353e-02 2.45632358e-02 3.26093280e-02 ... 5.34272427e+09\n",
      "  7.26003112e+09 9.15245904e+09]\n",
      " [0.00000000e+00 2.22609507e-02 3.09031802e-02 ... 4.18491401e+09\n",
      "  5.50625779e+09 6.86768389e+09]\n",
      " [0.00000000e+00 0.00000000e+00 2.61138027e-02 ... 2.95009264e+09\n",
      "  4.08854864e+09 5.21729366e+09]\n",
      " ...\n",
      " [0.00000000e+00 0.00000000e+00 0.00000000e+00 ... 1.22723635e-04\n",
      "  1.20293457e-03 4.76167298e-03]\n",
      " [0.00000000e+00 0.00000000e+00 0.00000000e+00 ... 0.00000000e+00\n",
      "  1.42325259e-04 1.20271169e-03]\n",
      " [0.00000000e+00 0.00000000e+00 0.00000000e+00 ... 0.00000000e+00\n",
      "  0.00000000e+00 1.31937855e-04]]\n"
     ]
    },
    {
     "data": {
      "text/plain": [
       "<matplotlib.image.AxesImage at 0x1e5a2271ac8>"
      ]
     },
     "execution_count": 7,
     "metadata": {},
     "output_type": "execute_result"
    },
    {
     "data": {
      "image/png": "[encoded data removed]",
      "text/plain": [
       "<Figure size 432x288 with 1 Axes>"
      ]
     },
     "metadata": {
      "needs_background": "light"
     },
     "output_type": "display_data"
    }
   ],
   "source": [
    "# Example of how to fetch dN/dE(i, j)\n",
    "print(mceq_run.pman[2212].hadr_yields[mceq_run.pman[211]])\n",
    "plt.spy(mceq_run.pman[2212].hadr_yields[mceq_run.pman[211]])"
   ]
  },
  {
   "cell_type": "code",
   "execution_count": 80,
   "metadata": {},
   "outputs": [
    {
     "data": {
      "text/plain": [
       "array([0.00000000e+00, 0.00000000e+00, 0.00000000e+00, 0.00000000e+00,\n",
       "       0.00000000e+00, 0.00000000e+00, 0.00000000e+00, 0.00000000e+00,\n",
       "       2.65442446e-25, 2.65141632e-25, 2.64919431e-25, 2.64775844e-25,\n",
       "       2.64710872e-25, 2.64724513e-25, 2.64816768e-25, 2.64987637e-25,\n",
       "       2.65237120e-25, 2.65565217e-25, 2.65971927e-25, 2.66457252e-25,\n",
       "       2.67021191e-25, 2.67663744e-25, 2.68384910e-25, 2.69184691e-25,\n",
       "       2.70063085e-25, 2.71020094e-25, 2.72055716e-25, 2.73169952e-25,\n",
       "       2.72708601e-25, 2.72306864e-25, 2.71969530e-25, 2.71701385e-25,\n",
       "       2.71507219e-25, 2.73077560e-25, 2.74734494e-25, 2.76478023e-25,\n",
       "       2.78308146e-25, 2.80224863e-25, 2.82228174e-25, 2.84318080e-25,\n",
       "       2.86494579e-25, 2.88757673e-25, 2.91107360e-25, 2.93548688e-25,\n",
       "       2.96098250e-25, 2.98757347e-25, 3.01525979e-25, 3.04404146e-25,\n",
       "       3.07391849e-25, 3.10489086e-25, 3.13681126e-25, 3.16757063e-25,\n",
       "       3.19648083e-25, 3.22354184e-25, 3.24875368e-25, 3.27159352e-25,\n",
       "       3.28762068e-25, 3.29582467e-25, 3.30266010e-25, 3.31540334e-25,\n",
       "       3.33406082e-25, 3.35863253e-25, 3.38911849e-25, 3.42551868e-25,\n",
       "       3.46783312e-25, 3.51479764e-25, 3.56161590e-25, 3.60782280e-25,\n",
       "       3.65341833e-25, 3.69840249e-25, 3.74277530e-25, 3.78653674e-25,\n",
       "       3.82976704e-25, 3.87394507e-25, 3.91962559e-25, 3.96680861e-25,\n",
       "       4.01549411e-25, 4.06568211e-25, 4.11737261e-25, 4.17056559e-25,\n",
       "       4.22443167e-25, 4.27788132e-25, 4.33090964e-25, 4.38351662e-25,\n",
       "       4.43570227e-25, 4.48746660e-25, 4.53880958e-25, 4.58981801e-25,\n",
       "       4.64087315e-25, 4.69201992e-25, 4.74325831e-25, 4.79458832e-25,\n",
       "       4.84600995e-25, 4.89752319e-25, 4.94912806e-25, 5.00082454e-25,\n",
       "       5.05261265e-25, 5.10449237e-25, 5.15646372e-25, 5.20852668e-25,\n",
       "       5.26068126e-25, 5.31292746e-25, 5.36497786e-25, 5.41639506e-25,\n",
       "       5.46717447e-25, 5.51731609e-25, 5.56681992e-25, 5.61568596e-25,\n",
       "       5.66391421e-25, 5.71156468e-25, 5.75894441e-25, 5.80609668e-25,\n",
       "       5.85302147e-25, 5.89971879e-25, 5.94618864e-25, 5.99243102e-25,\n",
       "       6.03851379e-25, 6.08680690e-25, 6.13848366e-25, 6.19354408e-25,\n",
       "       6.25198815e-25])"
      ]
     },
     "execution_count": 80,
     "metadata": {},
     "output_type": "execute_result"
    }
   ],
   "source": [
    "# Total cross section\n",
    "mceq_run.pman[2212].cs"
   ]
  },
  {
   "cell_type": "code",
   "execution_count": 21,
   "metadata": {},
   "outputs": [],
   "source": [
    "# Fetching all secondaries\n",
    "particle_dict = {}\n",
    "for particle in mceq_run.pman[2212].hadr_secondaries:\n",
    "    particle_dict[particle.name] = mceq_run.pman[2212].hadr_yields[particle]"
   ]
  },
  {
   "cell_type": "code",
   "execution_count": 46,
   "metadata": {},
   "outputs": [
    {
     "data": {
      "text/plain": [
       "array([[1.80372804e-02, 2.37588252e-02, 3.27450888e-02, ...,\n",
       "        5.19704735e+09, 6.78730894e+09, 8.84262297e+09],\n",
       "       [0.00000000e+00, 2.27071316e-02, 3.12330099e-02, ...,\n",
       "        3.80017909e+09, 5.32979491e+09, 7.00831904e+09],\n",
       "       [0.00000000e+00, 0.00000000e+00, 2.65377367e-02, ...,\n",
       "        2.74986815e+09, 3.83591768e+09, 4.80458548e+09],\n",
       "       ...,\n",
       "       [0.00000000e+00, 0.00000000e+00, 0.00000000e+00, ...,\n",
       "        6.45425753e-05, 6.27437516e-04, 2.86629013e-03],\n",
       "       [0.00000000e+00, 0.00000000e+00, 0.00000000e+00, ...,\n",
       "        0.00000000e+00, 5.66823830e-05, 7.02814943e-04],\n",
       "       [0.00000000e+00, 0.00000000e+00, 0.00000000e+00, ...,\n",
       "        0.00000000e+00, 0.00000000e+00, 5.19771055e-05]])"
      ]
     },
     "execution_count": 46,
     "metadata": {},
     "output_type": "execute_result"
    }
   ],
   "source": [
    "particle_dict['pi-']"
   ]
  },
  {
   "cell_type": "code",
   "execution_count": 42,
   "metadata": {},
   "outputs": [],
   "source": [
    "# Example of dumping\n",
    "pickle.dump(particle_dict, open(\"../data/proton.pkl\", \"wb\" ))"
   ]
  },
  {
   "cell_type": "code",
   "execution_count": 47,
   "metadata": {},
   "outputs": [],
   "source": [
    "# Example of loading\n",
    "proton_data = pickle.load(open(\"../data/proton.pkl\", \"rb\" ))"
   ]
  },
  {
   "cell_type": "code",
   "execution_count": 81,
   "metadata": {},
   "outputs": [
    {
     "data": {
      "image/png": "[encoded data removed]",
      "text/plain": [
       "<Figure size 720x540 with 1 Axes>"
      ]
     },
     "metadata": {
      "needs_background": "light"
     },
     "output_type": "display_data"
    }
   ],
   "source": [
    "# -----------------------------------------------------------------------------\n",
    "# Plotting options\n",
    "std_fig_size = 10.\n",
    "std_fontsize = 20.\n",
    "std_lw = 1.5\n",
    "std_hlength = 2.\n",
    "# -----------------------------------------------------------------------------\n",
    "# Plot\n",
    "fig, axs = plt.subplots(1, 1,\n",
    "                        figsize=(std_fig_size, std_fig_size * 6. / 8.),\n",
    "                        sharex=True,\n",
    "                        gridspec_kw={'hspace': 0})\n",
    "\n",
    "axs.plot(mceq_run.e_grid, proton_data['pi-'][:, 100] / mceq_run.e_widths * mceq_run.pman[2212].cs[100],\n",
    "         label=r'$E_{prim}$ = %.1e GeV' %mceq_run.e_grid[100])\n",
    "axs.plot(mceq_run.e_grid, proton_data['K-'][:, 100] / mceq_run.e_widths * mceq_run.pman[2212].cs[100],\n",
    "         label=r'$E_{prim}$ = %.1e GeV' %mceq_run.e_grid[100])\n",
    "lgd = axs.legend(loc=9, bbox_to_anchor=(0.8, +1.),\n",
    "                ncol=1, fontsize=std_fontsize, handlelength=std_hlength,\n",
    "                fancybox=True, frameon=True)\n",
    "axs.set_xlabel(r'$E_{sec}\\; \\mathrm{[GeV]}$', fontsize=std_fontsize)\n",
    "axs.set_ylabel(r'$\\frac{\\mathrm{d}N}{\\mathrm{d}E}$',\n",
    "               fontsize=std_fontsize)\n",
    "axs.set_xscale('log')\n",
    "axs.set_yscale('log')\n",
    "axs.grid(True)\n",
    "# axs.set_ylim(1e-30, 1e0)\n",
    "# axs.set_xlim(1e0, 1e7)\n",
    "axs.tick_params(axis = 'both', which = 'major',\n",
    "                labelsize=std_fontsize, direction='in')\n",
    "axs.tick_params(axis = 'both', which = 'minor',\n",
    "                labelsize=std_fontsize, direction='in')"
   ]
  },
  {
   "cell_type": "code",
   "execution_count": 62,
   "metadata": {},
   "outputs": [
    {
     "data": {
      "text/plain": [
       "16.99819095070877"
      ]
     },
     "execution_count": 62,
     "metadata": {},
     "output_type": "execute_result"
    }
   ],
   "source": [
    "np.trapz(proton_data['pi-'][:, 100], mceq_run.e_grid) / mceq_run.e_grid[100]"
   ]
  },
  {
   "cell_type": "code",
   "execution_count": null,
   "metadata": {},
   "outputs": [],
   "source": []
  }
 ],
 "metadata": {
  "kernelspec": {
   "display_name": "Python 3",
   "language": "python",
   "name": "python3"
  },
  "language_info": {
   "codemirror_mode": {
    "name": "ipython",
    "version": 3
   },
   "file_extension": ".py",
   "mimetype": "text/x-python",
   "name": "python",
   "nbconvert_exporter": "python",
   "pygments_lexer": "ipython3",
   "version": "3.8.5"
  }
 },
 "nbformat": 4,
 "nbformat_minor": 4
}
