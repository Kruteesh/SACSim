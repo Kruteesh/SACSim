{
 "cells": [
  {
   "cell_type": "code",
   "execution_count": 1,
   "metadata": {},
   "outputs": [],
   "source": [
    "from interaction_matrices import interactions\n",
    "from decay_matrices import decay_class\n",
    "\n",
    "from rho_X import rho\n",
    "import Lambdas\n",
    "from scipy.integrate import odeint\n",
    "from scipy.interpolate import UnivariateSpline\n",
    "from scipy.integrate import solve_ivp\n",
    "from scipy.sparse import *\n",
    "import time"
   ]
  },
  {
   "cell_type": "code",
   "execution_count": 2,
   "metadata": {},
   "outputs": [],
   "source": [
    "import pickle\n",
    "#with open('/home/kruteesh/Desktop/Solar_neutrinos/energyloss.pickle', 'rb') as f:\n",
    "p_leptons = pickle.load(open('/home/kruteesh/Desktop/Solar_neutrinos/Energy_loss_1.pkl','rb'))\n",
    "#And the rate matrices:\n"
   ]
  },
  {
   "cell_type": "code",
   "execution_count": 3,
   "metadata": {},
   "outputs": [],
   "source": [
    "#  Imports\n",
    "import numpy as np\n",
    "import scipy\n",
    "import matplotlib.pyplot as plt\n",
    "import pandas as pd\n",
    "import pickle\n",
    "import json\n",
    "from jupyterthemes import jtplot\n",
    "\n"
   ]
  },
  {
   "cell_type": "code",
   "execution_count": 4,
   "metadata": {},
   "outputs": [],
   "source": [
    "# MCEq Imports\n",
    "from MCEq.particlemanager import ParticleManager\n",
    "import MCEq.core \n",
    "from MCEq.core import MCEqRun\n",
    "from MCEq.data import Decays\n",
    "import mceq_config as config\n",
    "#import primary model choices\n",
    "import crflux.models as pm\n"
   ]
  },
  {
   "cell_type": "code",
   "execution_count": 5,
   "metadata": {},
   "outputs": [],
   "source": [
    "config.A_target=1.2\n",
    "config.muon_helicity_dependence=True"
   ]
  },
  {
   "cell_type": "code",
   "execution_count": 6,
   "metadata": {},
   "outputs": [],
   "source": [
    "# Silincing mceq, set to 1 or higher for output\n",
    "config.debug_level = 0\n",
    "\n",
    "# Launcing mceq\n",
    "mceq_run = MCEqRun(\n",
    "    #provide the string of the interaction model\n",
    "    interaction_model='SIBYLL23CPP',\n",
    "    #primary cosmic ray flux model\n",
    "    primary_model = (pm.HillasGaisser2012, \"H3a\"),\n",
    "    # Zenith angle in degrees. 0=vertical, 90=horizontal\n",
    "    theta_deg=0.0\n",
    "    \n",
    ")"
   ]
  },
  {
   "cell_type": "code",
   "execution_count": 7,
   "metadata": {},
   "outputs": [],
   "source": [
    "def find_nearest(array, value):\n",
    "    array = np.asarray(array)\n",
    "    idx = (np.abs(array - value)).argmin()\n",
    "    return array[idx]\n"
   ]
  },
  {
   "cell_type": "code",
   "execution_count": 8,
   "metadata": {},
   "outputs": [],
   "source": [
    "def rho_fun_data(rr,rh):\n",
    "    \n",
    "    return UnivariateSpline(rr,rh[0:len(ser)],k=1,s=0,ext=0)"
   ]
  },
  {
   "cell_type": "code",
   "execution_count": 9,
   "metadata": {},
   "outputs": [],
   "source": [
    "jtplot.style(theme=\"grade3\", context=\"notebook\", ticks=True, grid=False)"
   ]
  },
  {
   "cell_type": "code",
   "execution_count": 10,
   "metadata": {},
   "outputs": [],
   "source": [
    "#list of particles in concern\n",
    "list_particles=[mceq_run.pman[2212],     #p+           (0)\n",
    "                mceq_run.pman[-2212],     #pbar-        (1)\n",
    "                mceq_run.pman[2112],     #n            (2)\n",
    "                mceq_run.pman[-2112],    #nbar         (3)\n",
    "                mceq_run.pman[211],      #pi+          (4)\n",
    "                mceq_run.pman[-211],     #pi-          (5)\n",
    "                mceq_run.pman[310],      #K_S0         (6) \n",
    "                mceq_run.pman[130],      #K_L0         (7)\n",
    "                mceq_run.pman[321],      #K+           (8)\n",
    "                mceq_run.pman[-321],     #K-           (9)\n",
    "                mceq_run.pman[111],      #pi0          (10)\n",
    "                mceq_run.pman[-3122],    #Lambda_r0    (11)\n",
    "                mceq_run.pman[3122],     #Lambda0      (12)\n",
    "                mceq_run.pman[13],   #mu-          (13)\n",
    "                mceq_run.pman[-13],  #mu+          (14)\n",
    "                mceq_run.pman[-11],      #e+           (15)   \n",
    "                mceq_run.pman[11],       #e-           (16)\n",
    "                mceq_run.pman[12],       #numu         (23)\n",
    "                mceq_run.pman[-12],      #numubar      (24)\n",
    "                mceq_run.pman[14],       #nue          (21)\n",
    "                mceq_run.pman[-14],      #nuebar       (22)\n",
    "                mceq_run.pman[22]#gamma        (25)\n",
    "               ]"
   ]
  },
  {
   "cell_type": "code",
   "execution_count": 11,
   "metadata": {},
   "outputs": [],
   "source": [
    "\"\"\"\"\"\n",
    "For indices of the particles in phi \n",
    "\"\"\"\"\"\n",
    "j=0\n",
    "ind={}\n",
    "for i in list_particles:\n",
    "    ind[i.name,'up']=0+j\n",
    "    ind[i.name,'low']=121+j\n",
    "    j=j+121"
   ]
  },
  {
   "cell_type": "code",
   "execution_count": 12,
   "metadata": {},
   "outputs": [],
   "source": [
    "Name=[r\"$P^{+}$\",\n",
    "      r\"$\\overline{P}^{-}$\",\n",
    "      r\"$n^0$\",\n",
    "      r\"$\\overline{n}$\",\n",
    "      r\"$\\pi^{+}$\",\n",
    "      r\"$\\pi^{-}$\",\n",
    "      r\"$K_{S}^0$\"\n",
    "      ,r\"$K_{L}^0$\",\n",
    "      r\"$K^{+}$\",\n",
    "      r\"$K^{-}$\",\n",
    "      r\"$\\pi^{0}$\",\n",
    "      r\"$\\overline{\\Lambda}^{0}$\",\n",
    "      r'$\\Lambda^{0}$',\n",
    "      r\"$\\mu^{-}$\",\n",
    "      r\"$\\mu^{+}$\",\n",
    "      r\"$e^{+}$\",\n",
    "      r\"$e^{-}$\",\n",
    "      r\"$\\nu_{e}$\",\n",
    "      r\"$\\overline{\\nu}_{e}$\",\n",
    "      r\"$\\nu_{\\mu}$\"\n",
    "      ,r\"$\\overline{\\nu}_{\\mu}$\" ,\n",
    "      r'$\\gamma$'\n",
    "    \n",
    "]"
   ]
  },
  {
   "cell_type": "code",
   "execution_count": null,
   "metadata": {},
   "outputs": [],
   "source": [
    "\n"
   ]
  },
  {
   "cell_type": "code",
   "execution_count": 13,
   "metadata": {},
   "outputs": [],
   "source": [
    "#list of pdg ids \n",
    "list_particles_pdg_id=[]\n",
    "for i in range(0,len(list_particles)):\n",
    "    list_particles_pdg_id.append(list_particles[i].pdg_id[0])"
   ]
  },
  {
   "cell_type": "code",
   "execution_count": 14,
   "metadata": {},
   "outputs": [],
   "source": [
    "\"\"\"\"\"\n",
    "    gives back division of matrices with 0 at places where infinity arises\n",
    "\n",
    "    Parameters:\n",
    "    ------------------------\n",
    "    a matrix ,   b  matrix\n",
    "\n",
    "    Returns:\n",
    "    ------------------------\n",
    "    c matrix \n",
    "    \"\"\"\"\"\n",
    "def zero_division(a, b):\n",
    "    c = np.divide(a, b)\n",
    "    c[c == np.infty] = 0.\n",
    "    return c"
   ]
  },
  {
   "cell_type": "code",
   "execution_count": null,
   "metadata": {},
   "outputs": [],
   "source": []
  },
  {
   "cell_type": "code",
   "execution_count": 15,
   "metadata": {},
   "outputs": [
    {
     "name": "stderr",
     "output_type": "stream",
     "text": [
      "/home/kruteesh/Desktop/Solar_neutrinos/diffsec/diffrential_equation/interaction_matrices.py:184: RuntimeWarning: divide by zero encountered in true_divide\n",
      "  rescaling = np.nan_to_num(particle.inel_cross_section(mbarn=False) / total_xsec_tmp)\n",
      "/home/kruteesh/Desktop/Solar_neutrinos/diffsec/diffrential_equation/interaction_matrices.py:184: RuntimeWarning: invalid value encountered in true_divide\n",
      "  rescaling = np.nan_to_num(particle.inel_cross_section(mbarn=False) / total_xsec_tmp)\n"
     ]
    }
   ],
   "source": [
    "C=interactions(list_particles,list_particles_pdg_id).store_data()"
   ]
  },
  {
   "cell_type": "code",
   "execution_count": 16,
   "metadata": {},
   "outputs": [
    {
     "data": {
      "image/png": "[encoded data removed]",
      "text/plain": [
       "<Figure size 648x648 with 1 Axes>"
      ]
     },
     "metadata": {},
     "output_type": "display_data"
    }
   ],
   "source": [
    "plt.figure(figsize=(9,9))\n",
    "plt.title(\"C Matrix\"+\"\\n\"+\"\\n\",fontsize=17)\n",
    "plt.spy(C.toarray())\n",
    "j=0\n",
    "plt.xticks(ticks=[])\n",
    "plt.yticks(ticks=[])\n",
    "\n",
    "for i,p in enumerate(list_particles):\n",
    "    \n",
    "    plt.text(j+70,-70,Name[i],fontsize=16)\n",
    "    plt.text(-150,j+70,Name[i],fontsize=16)\n",
    "    j=j+121\n"
   ]
  },
  {
   "cell_type": "code",
   "execution_count": 17,
   "metadata": {},
   "outputs": [
    {
     "name": "stderr",
     "output_type": "stream",
     "text": [
      "/home/kruteesh/Desktop/Solar_neutrinos/diffsec/diffrential_equation/decay_matrices.py:61: RuntimeWarning: divide by zero encountered in true_divide\n",
      "  c = np.divide(a, b)\n",
      "/home/kruteesh/Desktop/Solar_neutrinos/diffsec/diffrential_equation/decay_matrices.py:61: RuntimeWarning: invalid value encountered in true_divide\n",
      "  c = np.divide(a, b)\n"
     ]
    }
   ],
   "source": [
    "D=decay_class(list_particles,list_particles_pdg_id).decay_matrix()\n"
   ]
  },
  {
   "cell_type": "code",
   "execution_count": 18,
   "metadata": {},
   "outputs": [
    {
     "data": {
      "image/png": "[encoded data removed]",
      "text/plain": [
       "<Figure size 648x648 with 1 Axes>"
      ]
     },
     "metadata": {},
     "output_type": "display_data"
    }
   ],
   "source": [
    "plt.figure(figsize=(9,9))\n",
    "plt.title(\"D Matrix\"+\"\\n\"+\"\\n\",fontsize=17)\n",
    "plt.spy(D.toarray())\n",
    "j=0\n",
    "plt.xticks(ticks=[])\n",
    "plt.yticks(ticks=[])\n",
    "\n",
    "for i,p in enumerate(list_particles):\n",
    "    \n",
    "    plt.text(j+70,-70,Name[i],fontsize=16)\n",
    "    plt.text(-150,j+70,Name[i],fontsize=16)\n",
    "    j=j+121\n"
   ]
  },
  {
   "cell_type": "code",
   "execution_count": 16,
   "metadata": {},
   "outputs": [],
   "source": [
    "L_dec=Lambdas.inverse_lengths(list_particles).inv_L_dec()"
   ]
  },
  {
   "cell_type": "code",
   "execution_count": 17,
   "metadata": {},
   "outputs": [
    {
     "data": {
      "text/plain": [
       "<matplotlib.lines.Line2D at 0x7fe6ece7deb0>"
      ]
     },
     "execution_count": 17,
     "metadata": {},
     "output_type": "execute_result"
    },
    {
     "data": {
      "image/png": "[encoded data removed]",
      "text/plain": [
       "<Figure size 576x504 with 1 Axes>"
      ]
     },
     "metadata": {},
     "output_type": "display_data"
    }
   ],
   "source": [
    "plt.spy(L_dec)"
   ]
  },
  {
   "cell_type": "code",
   "execution_count": null,
   "metadata": {},
   "outputs": [],
   "source": [
    "L_inte=Lambdas.inverse_lengths(list_particles).inv_L_inte()#####change A for sun. !!!!!!"
   ]
  },
  {
   "cell_type": "code",
   "execution_count": null,
   "metadata": {},
   "outputs": [],
   "source": [
    "mceq_run.pman[2212].inverse_interaction_length()"
   ]
  },
  {
   "cell_type": "code",
   "execution_count": null,
   "metadata": {
    "scrolled": true
   },
   "outputs": [],
   "source": [
    "print((L_inte[ind['p+','up']:ind['p+','low']][ind['p+','up']:ind['p+','low']]))\n"
   ]
  },
  {
   "cell_type": "code",
   "execution_count": null,
   "metadata": {},
   "outputs": [],
   "source": [
    "import codecs\n",
    "file = codecs.open('/home/kruteesh/Desktop/Solar_neutrinos/rho.txt', 'r', 'UTF-8')\n",
    "print(file)\n",
    "tline = file.readlines()\n",
    "b=tline[5:]\n",
    "r_ratio=[]\n",
    "rho_data=[]\n",
    "c=[]\n",
    "for i in b:\n",
    "    r_ratio.append(float(i.split(' ')[1]))\n",
    "\n",
    "    rho_data.append(float(i.split(' ')[3]))"
   ]
  },
  {
   "cell_type": "code",
   "execution_count": 52,
   "metadata": {},
   "outputs": [
    {
     "data": {
      "text/plain": [
       "('K+',\n",
       " dict_keys([\n",
       "         pi-:\n",
       "         is_hadron     : True\n",
       "         is_lepton     : False\n",
       "         is_nucleus    : False\n",
       "         is_stable     : False\n",
       "         is_mixed      : True\n",
       "         is_resonance  : False\n",
       "         is_tracking   : False\n",
       "         is_projectile : True\n",
       "         mceqidx       : 17\n",
       "         E_mix         : 7.1e-01 GeV\n",
       " , \n",
       "         mu+_l:\n",
       "         is_hadron     : False\n",
       "         is_lepton     : True\n",
       "         is_nucleus    : False\n",
       "         is_stable     : False\n",
       "         is_mixed      : False\n",
       "         is_resonance  : False\n",
       "         is_tracking   : False\n",
       "         is_projectile : False\n",
       "         mceqidx       : 4\n",
       "         E_mix         : 0.0e+00 GeV\n",
       " , \n",
       "         mu+_r:\n",
       "         is_hadron     : False\n",
       "         is_lepton     : True\n",
       "         is_nucleus    : False\n",
       "         is_stable     : False\n",
       "         is_mixed      : False\n",
       "         is_resonance  : False\n",
       "         is_tracking   : False\n",
       "         is_projectile : False\n",
       "         mceqidx       : 6\n",
       "         E_mix         : 0.0e+00 GeV\n",
       " , \n",
       "         e+:\n",
       "         is_hadron     : False\n",
       "         is_lepton     : True\n",
       "         is_nucleus    : False\n",
       "         is_stable     : True\n",
       "         is_mixed      : False\n",
       "         is_resonance  : False\n",
       "         is_tracking   : False\n",
       "         is_projectile : False\n",
       "         mceqidx       : 0\n",
       "         E_mix         : 0.0e+00 GeV\n",
       " , \n",
       "         nue:\n",
       "         is_hadron     : False\n",
       "         is_lepton     : True\n",
       "         is_nucleus    : False\n",
       "         is_stable     : True\n",
       "         is_mixed      : False\n",
       "         is_resonance  : False\n",
       "         is_tracking   : False\n",
       "         is_projectile : False\n",
       "         mceqidx       : 3\n",
       "         E_mix         : 0.0e+00 GeV\n",
       " , \n",
       "         numu:\n",
       "         is_hadron     : False\n",
       "         is_lepton     : True\n",
       "         is_nucleus    : False\n",
       "         is_stable     : True\n",
       "         is_mixed      : False\n",
       "         is_resonance  : False\n",
       "         is_tracking   : False\n",
       "         is_projectile : False\n",
       "         mceqidx       : 11\n",
       "         E_mix         : 0.0e+00 GeV\n",
       " , \n",
       "         pi0:\n",
       "         is_hadron     : True\n",
       "         is_lepton     : False\n",
       "         is_nucleus    : False\n",
       "         is_stable     : False\n",
       "         is_mixed      : True\n",
       "         is_resonance  : False\n",
       "         is_tracking   : False\n",
       "         is_projectile : True\n",
       "         mceqidx       : 15\n",
       "         E_mix         : 5.6e+08 GeV\n",
       " , \n",
       "         pi+:\n",
       "         is_hadron     : True\n",
       "         is_lepton     : False\n",
       "         is_nucleus    : False\n",
       "         is_stable     : False\n",
       "         is_mixed      : True\n",
       "         is_resonance  : False\n",
       "         is_tracking   : False\n",
       "         is_projectile : True\n",
       "         mceqidx       : 18\n",
       "         E_mix         : 7.1e-01 GeV\n",
       " , \n",
       "         k_nue:\n",
       "         is_hadron     : False\n",
       "         is_lepton     : True\n",
       "         is_nucleus    : False\n",
       "         is_stable     : True\n",
       "         is_mixed      : False\n",
       "         is_resonance  : False\n",
       "         is_tracking   : True\n",
       "         is_projectile : False\n",
       "         mceqidx       : 43\n",
       "         E_mix         : 0.0e+00 GeV\n",
       " , \n",
       "         k_mu+_l:\n",
       "         is_hadron     : False\n",
       "         is_lepton     : True\n",
       "         is_nucleus    : False\n",
       "         is_stable     : False\n",
       "         is_mixed      : False\n",
       "         is_resonance  : False\n",
       "         is_tracking   : True\n",
       "         is_projectile : False\n",
       "         mceqidx       : 44\n",
       "         E_mix         : 0.0e+00 GeV\n",
       " , \n",
       "         k_mu+_r:\n",
       "         is_hadron     : False\n",
       "         is_lepton     : True\n",
       "         is_nucleus    : False\n",
       "         is_stable     : False\n",
       "         is_mixed      : False\n",
       "         is_resonance  : False\n",
       "         is_tracking   : True\n",
       "         is_projectile : False\n",
       "         mceqidx       : 45\n",
       "         E_mix         : 0.0e+00 GeV\n",
       " , \n",
       "         k_numu:\n",
       "         is_hadron     : False\n",
       "         is_lepton     : True\n",
       "         is_nucleus    : False\n",
       "         is_stable     : True\n",
       "         is_mixed      : False\n",
       "         is_resonance  : False\n",
       "         is_tracking   : True\n",
       "         is_projectile : False\n",
       "         mceqidx       : 49\n",
       "         E_mix         : 0.0e+00 GeV\n",
       " ]))"
      ]
     },
     "execution_count": 52,
     "metadata": {},
     "output_type": "execute_result"
    }
   ],
   "source": [
    "#radii.shape # (the rows have same h axis=0 => same h)!!!!!!!!!!!!!!!!!!\n",
    "mceq_run.pman[321].name,mceq_run.pman[321].decay_dists.keys()"
   ]
  },
  {
   "cell_type": "code",
   "execution_count": 53,
   "metadata": {},
   "outputs": [],
   "source": [
    "\"\"\"\"\"\n",
    "The primary fluxes\n",
    "\"\"\"\"\"\n",
    "phi=np.zeros(len(list_particles)*121)\n",
    "phi0_p = (\n",
    "    mceq_run._phi0[mceq_run.pman[2212].lidx:mceq_run.pman[2212].uidx]\n",
    ")\n",
    "phi0_n=(\n",
    "    mceq_run._phi0[mceq_run.pman[2112].lidx:mceq_run.pman[2112].uidx]\n",
    ")\n",
    "phi[242:363]=phi0_n\n",
    "phi[0:121]=phi0_p\n"
   ]
  },
  {
   "cell_type": "code",
   "execution_count": null,
   "metadata": {},
   "outputs": [],
   "source": [
    "phi0_mu=mceq_run.e_grid**(-2)\n",
    "phi_test=np.zeros(len(list_particles)*121)\n",
    "phi_test[ind[\"mu+\",\"up\"]:ind[\"mu+\",\"low\"]]=phi0_mu"
   ]
  },
  {
   "cell_type": "code",
   "execution_count": null,
   "metadata": {},
   "outputs": [],
   "source": []
  },
  {
   "cell_type": "code",
   "execution_count": null,
   "metadata": {},
   "outputs": [],
   "source": [
    "\"\"\"\"\"\n",
    "The RHS function for sol_ivp\n",
    "\"\"\"\"\"\n",
    "def RHS_ivp( x,y ,c , d , inL_int , inL_dec , rh  ):\n",
    "   # print(np.matmul((c-np.eye(c.shape[0])),inL_int).shape\n",
    "    #         ,(np.matmul((d-np.eye(d.shape[0])), inL_dec)/rh(x )).shape,y.shape)\n",
    "    rh= (\n",
    "        ((c*rh(x)-eye(c.shape[0]))*inL_int)\n",
    "                         +((d*rh(x)-eye(d.shape[0]))*inL_dec/rh(x))\n",
    "        )*y\n",
    "                \n",
    "    return rh\n"
   ]
  },
  {
   "cell_type": "code",
   "execution_count": null,
   "metadata": {},
   "outputs": [],
   "source": [
    "\"The Sun and the X for the path from sun \"\n",
    "R_sun=6.957e10\n",
    "h_list=[0,0.001]\n",
    "new_h=np.array([h*R_sun for h in h_list])\n",
    "print(new_h)"
   ]
  },
  {
   "cell_type": "code",
   "execution_count": null,
   "metadata": {},
   "outputs": [],
   "source": [
    "#plt.figure(figsize=(11,11))\n",
    "small_list=[\n",
    "                #mceq_run.pman[(13,0)],\n",
    "                mceq_run.pman[-13],\n",
    "    #mceq_run.pman[11],\n",
    "    mceq_run.pman[-11],\n",
    "                #mceq_run.pman[211],       #numu        (21)\n",
    "                #mceq_run.pman[130],\n",
    "                #mceq_run.pman[321],\n",
    "                #mceq_run.pman[(-13,0)],  #mu+          (14)\n",
    "                #mceq_run.pman[211],      #pi+          (4)\n",
    "               # mceq_run.pman[-211],     #pi-          (5)\n",
    "               # mceq_run.pman[111], #pi0          (10)\n",
    "                #mceq_run.pman[14],       #nue          (21)\n",
    "                mceq_run.pman[-14],      #antinue       (22)\n",
    "                #mceq_run.pman[12],       #numu         (23)\n",
    "                mceq_run.pman[-12]      #antinumu      (24) \n",
    "    \n",
    "]\n",
    "ls=['r--','g--','k--','c--','b--','y--','r-.','g-.','k-.','c-.','b-.','y-.','r-','g-','b-','c-','k-'\n",
    "    ,'y-','r.','g.','k.','y.','c.','b.']\n",
    "\n"
   ]
  },
  {
   "cell_type": "code",
   "execution_count": null,
   "metadata": {},
   "outputs": [],
   "source": []
  },
  {
   "cell_type": "code",
   "execution_count": null,
   "metadata": {},
   "outputs": [],
   "source": [
    "def RHS_test(x,y,c,d,inL_inte,inL_dec,rh):\n",
    "    return (((c-eye(c.shape[0])*inL_dec))+((d-eye(d.shape[0]))*inL_dec))*y/rh(x)"
   ]
  },
  {
   "cell_type": "code",
   "execution_count": null,
   "metadata": {},
   "outputs": [],
   "source": [
    "#final_phi\n",
    "start_time=time.time()\n",
    "sol_ivp_csr={}\n",
    "x2rho={}\n",
    "final_X={}#the dictionaries\n",
    "for h in new_h:\n",
    "    \n",
    "    rhh=rho(R_sun,h,r_ratio,rho_data)\n",
    "    x2rho[h]=rhh.X2rho()\n",
    "    final_X[h]=rhh.final_X()\n",
    "    #print(final_X[h],x2rho(int(len(final_X[h])/2)))\n",
    "end_time=time.time()\n",
    "#print(end_time-start_time)\n"
   ]
  },
  {
   "cell_type": "code",
   "execution_count": null,
   "metadata": {},
   "outputs": [],
   "source": [
    " for h in new_h:\n",
    "    print(final_X[h],x2rho[h](int(len(final_X[h])/2)))\n"
   ]
  },
  {
   "cell_type": "code",
   "execution_count": null,
   "metadata": {},
   "outputs": [],
   "source": []
  },
  {
   "cell_type": "code",
   "execution_count": null,
   "metadata": {},
   "outputs": [],
   "source": []
  },
  {
   "cell_type": "code",
   "execution_count": null,
   "metadata": {},
   "outputs": [],
   "source": [
    "sol_ivp_csr.keys()"
   ]
  },
  {
   "cell_type": "code",
   "execution_count": null,
   "metadata": {},
   "outputs": [],
   "source": [
    "for h in new_h:\n",
    "    start_time=time.time()\n",
    "    sol_ivp_csr[h]=solve_ivp(\n",
    "                            RHS_ivp,\n",
    "                          [final_X[h][0],final_X[h][-1]],\n",
    "                        phi,method='LSODA',args=(C,D,L_inte,L_dec,x2rho[h]))#vectorized=True,\n",
    "    print(h)\n",
    "    end_time=time.time()\n",
    "    print(end_time-start_time)\n"
   ]
  },
  {
   "cell_type": "code",
   "execution_count": null,
   "metadata": {
    "scrolled": false
   },
   "outputs": [],
   "source": [
    "#plt.figure(figsize=(11,11))\n",
    "for i,h in enumerate(h_list):\n",
    "    plt.figure(figsize=(15,15))\n",
    "    for j,p in enumerate(list_particles):\n",
    "        \n",
    "        bb_1=np.transpose(sol_ivp_csr[h*R_sun]['y'])\n",
    "         \n",
    "        #bb_2=np.transpose(sol_ivp_csr[h_list[i+1]*R_sun]['y'])\n",
    "        #phi_ratio=bb_1[-1][ind[p.name,'up']:ind[p.name,'low']]/ bb_2[-1][ind[p.name,'up']:ind[p.name,'low']]\n",
    "        r=(bb_1[-1][ind[p.name,'up']:ind[p.name,'low']])           \n",
    "        if np.any(r)!=0:\n",
    "         #   print(p.name)\n",
    "            plt.scatter(mceq_run.e_grid,\n",
    "                 (mceq_run.e_grid**3)*np.nan_to_num(bb_1[-1][ind[p.name,'up']:ind[p.name,'low']]\n",
    "                                                 ),label=p.name)\n",
    "        else:\n",
    "            print(p.name)\n",
    "    plt.plot(mceq_run.e_grid,(mceq_run.e_grid**3)*phi[ind[\"p+\",\"up\"]:ind[\"p+\",\"low\"]],\"r-\",label=\"p+ initial \")\n",
    "    plt.plot(mceq_run.e_grid,(mceq_run.e_grid**3)*phi[ind[\"n0\",\"up\"]:ind[\"n0\",\"low\"]],\"b-\",label=\"n0 initial \")\n",
    "\n",
    "    plt.title(\" max X=\"+str(\"{:e}\".format(final_X[h*R_sun][-1])),fontsize=18)\n",
    "    plt.xlabel(\"E (GeV)\",fontsize=18)\n",
    "    plt.ylabel(r'$E^{3} \\frac{d\\Phi}{dE}$',fontsize=18)\n",
    "    #plt.ylim((1e-85,1e3))\n",
    "    #plt.xlim((1e1,1e7))\n",
    "    plt.legend()\n",
    "    plt.grid()\n",
    "    plt.xscale(\"log\")\n",
    "    plt.yscale(\"log\")\n",
    "    #    plt.savefig('/home/kruteesh/Desktop/Solar_neutrinos/diffsec/pics/'+str(h_list[i])+'.png')"
   ]
  },
  {
   "cell_type": "code",
   "execution_count": null,
   "metadata": {},
   "outputs": [],
   "source": [
    "s='p+'\n",
    "plt.figure(figsize=(15,15))\n",
    "#for j,s in enumerate(np.array([i.name for i in small_list])):\n",
    "bb=np.transpose(sol_ivp_csr[new_h[4]]['y'])[-1][ind[s,'up']:ind[s,'low']]\n",
    "print(bb)\n",
    "plt.scatter(mceq_run.e_grid,(mceq_run.e_grid**2)*bb,label=s+' flux')\n",
    "\n",
    "plt.plot(mceq_run.e_grid,phi[ind[s,'up']:ind[s,'low']]*mceq_run.e_grid**2,'g--',label=\"p+ initial \")\n",
    "plt.xlabel(\"E (GeV)\")\n",
    "plt.ylabel(r'$E^{2} \\frac{d\\Phi}{dE}$')\n",
    "plt.title('X_max='+str(final_X[new_h[3]][-1]))\n",
    "plt.ylim((1e-75,1e1))\n",
    "plt.legend()\n",
    "plt.grid()\n",
    "plt.xscale(\"log\")\n",
    "plt.yscale(\"log\")"
   ]
  },
  {
   "cell_type": "code",
   "execution_count": null,
   "metadata": {},
   "outputs": [],
   "source": [
    "for i,h in enumerate(new_h):\n",
    "    plt.figure(figsize=(11,11))\n",
    "    for j,p in enumerate(small_list):\n",
    "        \n",
    "        bb_1=np.transpose(sol_ivp_csr[new_h[i]]['y'])\n",
    "        bb_2=np.transpose(sol_ivp_csr[new_h[i+1]]['y'])\n",
    "        phi_ratio=bb_1[-1][ind[p.name,'up']:ind[p.name,'low']]/ bb_2[-1][ind[p.name,'up']:ind[p.name,'low']]\n",
    "        plt.plot(mceq_run.e_grid,\n",
    "                (phi_ratio),\n",
    "                 ls[j],label=p.name)\n",
    "    #plt.plot(mceq_run.e_grid,(mceq_run.e_grid**3)*phi[0:121],label=\"P+ initial \")\n",
    "\n",
    "    plt.title(r\"$\\Phi$ ratio  for h=\"+str(h_list[i])+\"*R_sun \"+\", h=\"+str(h_list[i+1])+\"*R_sun \")\n",
    "    plt.xlabel(\"E (GeV)\")\n",
    "    plt.ylabel(r'$\\Phi$ ratio (small h / large h)')\n",
    "    #plt.xlim((1e10,1e11))\n",
    "    plt.legend()\n",
    "    plt.grid()\n",
    "    plt.xscale(\"log\")\n",
    "    #plt.yscale(\"log\")\n",
    "    plt.savefig('/home/kruteesh/Desktop/Solar_neutrinos/diffsec/pics/'+str(h_list[i])+','+str(h_list[i+1])+'.png')"
   ]
  },
  {
   "cell_type": "code",
   "execution_count": null,
   "metadata": {},
   "outputs": [],
   "source": []
  },
  {
   "cell_type": "code",
   "execution_count": null,
   "metadata": {},
   "outputs": [],
   "source": [
    "#For neutrino oscillation\n",
    "#for atmospheric neutrinos\n"
   ]
  },
  {
   "cell_type": "code",
   "execution_count": null,
   "metadata": {},
   "outputs": [],
   "source": [
    "p_mu=1-sin^2(2*theta_13)*sin^2(theta_23)+sin^2(2*theta_23)cos^4(theta_13)*sin(dm^2_atm *L/4E)"
   ]
  },
  {
   "cell_type": "code",
   "execution_count": null,
   "metadata": {},
   "outputs": [],
   "source": [
    "p_e=1-sin^2(2*theta_12)*cos^2(theta_13)*sin^2(dm^2_12 *L/4E)=1-(p_emu+p_e_t)\n",
    "p_mu=1-(p_mue+p_mut)"
   ]
  },
  {
   "cell_type": "code",
   "execution_count": null,
   "metadata": {},
   "outputs": [],
   "source": []
  },
  {
   "cell_type": "code",
   "execution_count": null,
   "metadata": {},
   "outputs": [],
   "source": []
  }
 ],
 "metadata": {
  "kernelspec": {
   "display_name": "Python 3",
   "language": "python",
   "name": "python3"
  },
  "language_info": {
   "codemirror_mode": {
    "name": "ipython",
    "version": 3
   },
   "file_extension": ".py",
   "mimetype": "text/x-python",
   "name": "python",
   "nbconvert_exporter": "python",
   "pygments_lexer": "ipython3",
   "version": "3.8.5"
  }
 },
 "nbformat": 4,
 "nbformat_minor": 4
}
