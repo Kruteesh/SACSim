{
 "cells": [
  {
   "cell_type": "code",
   "execution_count": 1,
   "metadata": {},
   "outputs": [],
   "source": [
    "import numpy as np\n",
    "import scipy\n",
    "import matplotlib.pyplot as plt\n",
    "import pandas as pd\n",
    "import pickle\n",
    "import json\n",
    "from jupyterthemes import jtplot"
   ]
  },
  {
   "cell_type": "code",
   "execution_count": 2,
   "metadata": {},
   "outputs": [],
   "source": [
    "# MCEq Imports\n",
    "from MCEq.particlemanager import ParticleManager\n",
    "import MCEq.core \n",
    "from MCEq.core import MCEqRun\n",
    "from MCEq.data import Decays\n",
    "import mceq_config as config\n",
    "#import primary model choices\n",
    "import crflux.models as pm"
   ]
  },
  {
   "cell_type": "code",
   "execution_count": 3,
   "metadata": {},
   "outputs": [],
   "source": [
    "jtplot.style(theme=\"grade3\", context=\"notebook\", ticks=True, grid=False)"
   ]
  },
  {
   "cell_type": "code",
   "execution_count": 6,
   "metadata": {},
   "outputs": [],
   "source": [
    "# Silincing mceq, set to 1 or higher for output\n",
    "config.debug_level = 0\n",
    "# Launcing mceq\n",
    "mceq_run = MCEqRun(\n",
    "    #provide the string of the interaction model\n",
    "    interaction_model='SIBYLL23CPP',\n",
    "    #primary cosmic ray flux model\n",
    "    primary_model = (pm.HillasGaisser2012, \"H3a\"),\n",
    "    # Zenith angle in degrees. 0=vertical, 90=horizontal\n",
    "    theta_deg=0.0\n",
    ")"
   ]
  },
  {
   "cell_type": "code",
   "execution_count": 5,
   "metadata": {},
   "outputs": [],
   "source": [
    "#list of particles in concern\n",
    "list_particles=[mceq_run.pman[2212],     #p+           (0)\n",
    "                mceq_run.pman[-2212],     #pbar-        (1)\n",
    "                mceq_run.pman[2112],     #n            (2)\n",
    "                mceq_run.pman[-2112],    #nbar         (3)\n",
    "                mceq_run.pman[211],      #pi+          (4)\n",
    "                mceq_run.pman[-211],     #pi-          (5)\n",
    "                mceq_run.pman[310],      #K_S0         (6) \n",
    "                mceq_run.pman[130],      #K_L0         (7)\n",
    "                mceq_run.pman[321],      #K+           (8)\n",
    "                mceq_run.pman[-321],     #K-           (9)\n",
    "                mceq_run.pman[111],      #pi0          (10)\n",
    "                mceq_run.pman[-3122],    #Lambda_r0    (11)\n",
    "                mceq_run.pman[3122],     #Lambda0      (12)\n",
    "                mceq_run.pman[13],   #mu-          (13)\n",
    "                mceq_run.pman[-13],  #mu+          (14)\n",
    "                mceq_run.pman[-11],      #e+           (15)   \n",
    "                mceq_run.pman[11],       #e-           (16)\n",
    "               \n",
    "\n",
    "                mceq_run.pman[14],       #nue          (21)\n",
    "                mceq_run.pman[-14],      #nuebar       (22)\n",
    "                mceq_run.pman[12],       #numu         (23)\n",
    "                mceq_run.pman[-12],      #numubar      (24) \n",
    "                mceq_run.pman[22]#gamma        (25)\n",
    "               ]"
   ]
  },
  {
   "cell_type": "code",
   "execution_count": 6,
   "metadata": {},
   "outputs": [],
   "source": [
    "class inverse_lengths:\n",
    "    def __init__(self,list_pa):\n",
    "        self.particles=list_pa\n",
    "        \n",
    "    def inv_L_inte(self):\n",
    "        \"\"\"\"\"\n",
    "        inverse interaction length without atmospheric molecular composition\n",
    "\n",
    "        Parameter:\n",
    "        ---------------------\n",
    "        particles list\n",
    "\n",
    "        Return:\n",
    "        ---------------\n",
    "        inv_L matrix (n,121,121) n=number of particles inclded in particles\n",
    "        \"\"\"\"\"\n",
    "        inv_L=np.array([])\n",
    "        A=1.2\n",
    "        N_A=scipy.constants.N_A\n",
    "        \n",
    "        for p in self.particles:\n",
    "            print(p.inel_cross_section())\n",
    "            sigma=p.inel_cross_section()\n",
    "            inv_L=np.concatenate(A/(N_A*sigma),axis=0)\n",
    "            \n",
    "        return np.diag(inv_L)\n",
    "    \n",
    "    def inv_L_dec(self):\n",
    "        \"\"\"\"\"\n",
    "        inverse decay length without atmospheric density !!!!need to chcek again forgot!!!!!! \n",
    "\n",
    "        Parameter:\n",
    "        -------------------\n",
    "        particles list\n",
    "\n",
    "        Return:\n",
    "        -------------------\n",
    "        inv_L matrix(n,121,121) n=number of particles included in particles\n",
    "        \"\"\"\"\"\n",
    "        inv_L_dec=np.array([])\n",
    "       \n",
    "        for p in self.particles:\n",
    "           \n",
    "            inv_L_dec=np.concatenate((inv_L_dec,p.inverse_decay_length()),axis=0)\n",
    "\n",
    "        return np.diag(inv_L_dec)"
   ]
  },
  {
   "cell_type": "code",
   "execution_count": 7,
   "metadata": {},
   "outputs": [],
   "source": [
    "L_in=inverse_lengths(list_particles).inv_L_inte()"
   ]
  },
  {
   "cell_type": "code",
   "execution_count": 8,
   "metadata": {},
   "outputs": [],
   "source": [
    "L_dec=inverse_lengths(list_particles).inv_L_dec()"
   ]
  },
  {
   "cell_type": "code",
   "execution_count": 11,
   "metadata": {},
   "outputs": [
    {
     "name": "stderr",
     "output_type": "stream",
     "text": [
      "<ipython-input-11-5960da74437f>:1: RuntimeWarning: divide by zero encountered in true_divide\n",
      "  1/mceq_run.pman[2212].inverse_interaction_length()\n"
     ]
    },
    {
     "data": {
      "text/plain": [
       "array([         inf,          inf,          inf,          inf,\n",
       "                inf,          inf,          inf,          inf,\n",
       "        92.35575545,  92.46053703,  92.53808813,  92.58827112,\n",
       "        92.61099674,  92.60622453,  92.573963  ,  92.51426957,\n",
       "        92.42725032,  92.31305957,  92.1718991 ,  92.00401737,\n",
       "        91.80970834,  91.58931028,  91.34320423,  91.07181244,\n",
       "        90.77559656,  90.45505572,  90.1107245 ,  89.74317076,\n",
       "       108.63021669, 137.87686394, 189.27598586, 303.39064955,\n",
       "       775.59144858, 769.46778353, 763.06612354, 755.71703214,\n",
       "       748.19293658, 739.89700734, 731.54085802, 722.64820244,\n",
       "       713.80689246, 704.68811026, 695.71645304, 686.71787142,\n",
       "       677.7528212 , 668.4113753 , 659.1846054 , 649.77657602,\n",
       "       640.44947282, 630.81393092, 621.35595331, 611.8407066 ,\n",
       "       602.50085149, 593.0936382 , 583.85689365, 574.53280339,\n",
       "       565.37463859, 556.1069834 , 547.00346066, 537.77282747,\n",
       "       528.70522748, 519.49174588, 510.44469802, 501.24300592,\n",
       "       492.21284224, 483.02240208, 474.01302353, 464.84964287,\n",
       "       456.08975063, 447.82783664, 439.7817893 , 431.77666229,\n",
       "       423.98809216, 416.25880275, 408.74388651, 401.30138131,\n",
       "       394.06667052, 386.90651729, 379.95074998, 373.08142461,\n",
       "       366.41122117, 359.83571063, 353.4525358 , 347.16885639,\n",
       "       341.06845932, 335.06587319, 329.23913226, 323.51253568,\n",
       "       317.95224291, 312.4878847 , 307.1824132 , 301.9737405 ,\n",
       "       296.91546961, 291.95118553, 287.12841033, 282.39444461,\n",
       "       277.79493509, 273.28315821, 268.89792247, 264.59598233,\n",
       "       260.41401489, 256.31369801, 252.32633331, 248.41680091,\n",
       "       244.61293951, 240.88118094, 237.24946391, 233.68771447,\n",
       "       230.22011433, 226.81878973, 223.5055352 , 220.25331893,\n",
       "       217.08550381, 213.97966405, 210.95233006, 207.98090226,\n",
       "       205.0842649 , 202.24282597, 199.4713595 , 196.750698  ,\n",
       "       194.09607739])"
      ]
     },
     "execution_count": 11,
     "metadata": {},
     "output_type": "execute_result"
    }
   ],
   "source": [
    "1/mceq_run.pman[2212].inverse_interaction_length()\n",
    "\n"
   ]
  },
  {
   "cell_type": "code",
   "execution_count": null,
   "metadata": {},
   "outputs": [],
   "source": []
  },
  {
   "cell_type": "code",
   "execution_count": 10,
   "metadata": {},
   "outputs": [],
   "source": [
    "a=np.array([])"
   ]
  },
  {
   "cell_type": "code",
   "execution_count": 11,
   "metadata": {},
   "outputs": [],
   "source": [
    "b=np.array([1,2,3])"
   ]
  },
  {
   "cell_type": "code",
   "execution_count": 12,
   "metadata": {},
   "outputs": [
    {
     "data": {
      "text/plain": [
       "array([1., 2., 3.])"
      ]
     },
     "execution_count": 12,
     "metadata": {},
     "output_type": "execute_result"
    }
   ],
   "source": [
    "np.concatenate((a,b))"
   ]
  },
  {
   "cell_type": "code",
   "execution_count": null,
   "metadata": {},
   "outputs": [],
   "source": []
  }
 ],
 "metadata": {
  "kernelspec": {
   "display_name": "Python 3",
   "language": "python",
   "name": "python3"
  },
  "language_info": {
   "codemirror_mode": {
    "name": "ipython",
    "version": 3
   },
   "file_extension": ".py",
   "mimetype": "text/x-python",
   "name": "python",
   "nbconvert_exporter": "python",
   "pygments_lexer": "ipython3",
   "version": "3.8.5"
  }
 },
 "nbformat": 4,
 "nbformat_minor": 4
}
