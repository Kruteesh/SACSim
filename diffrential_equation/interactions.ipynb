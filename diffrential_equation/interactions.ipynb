{
 "cells": [
  {
   "cell_type": "code",
   "execution_count": 14,
   "metadata": {},
   "outputs": [],
   "source": [
    "import numpy as np\n",
    "import scipy\n",
    "import matplotlib.pyplot as plt\n",
    "import pandas as pd\n",
    "import pickle\n",
    "import json\n",
    "from jupyterthemes import jtplot\n",
    "from MCEq.particlemanager import ParticleManager\n",
    "import MCEq.core \n",
    "from MCEq.core import MCEqRun\n",
    "from MCEq.data import Decays\n",
    "import mceq_config as config\n",
    "#import primary model choices\n",
    "import crflux.models as pm\n",
    "# Silincing mceq, set to 1 or higher for output\n",
    "config.debug_level = 0\n",
    "# Launcing mceq\n",
    "mceq_run = MCEqRun(\n",
    "    #provide the string of the interaction model\n",
    "    interaction_model='SIBYLL23CPP',\n",
    "    #primary cosmic ray flux model\n",
    "    primary_model = (pm.HillasGaisser2012, \"H3a\"),\n",
    "    # Zenith angle in degrees. 0=vertical, 90=horizontal\n",
    "    theta_deg=0.0\n",
    ")\n"
   ]
  },
  {
   "cell_type": "code",
   "execution_count": 15,
   "metadata": {},
   "outputs": [],
   "source": [
    "#list of particles in concern\n",
    "list_particles=[mceq_run.pman[2212],     #p+           (0)\n",
    "                mceq_run.pman[-2212],     #pbar-        (1)\n",
    "                mceq_run.pman[2112],     #n            (2)\n",
    "                mceq_run.pman[-2112],    #nbar         (3)\n",
    "                mceq_run.pman[211],      #pi+          (4)\n",
    "                mceq_run.pman[-211],     #pi-          (5)\n",
    "                mceq_run.pman[310],      #K_S0         (6) \n",
    "                mceq_run.pman[130],      #K_L0         (7)\n",
    "                mceq_run.pman[321],      #K+           (8)\n",
    "                mceq_run.pman[-321],     #K-           (9)\n",
    "                mceq_run.pman[111],      #pi0          (10)\n",
    "                mceq_run.pman[-3122],    #Lambda_r0    (11)\n",
    "                mceq_run.pman[3122],     #Lambda0      (12)\n",
    "                mceq_run.pman[(13,0)],   #mu-          (13)\n",
    "                mceq_run.pman[(-13,0)],  #mu+          (14)\n",
    "                mceq_run.pman[-11],      #e+           (15)   \n",
    "                mceq_run.pman[11],       #e-           (16)\n",
    "          \n",
    "\n",
    "                mceq_run.pman[14],       #nue          (21)\n",
    "                mceq_run.pman[-14],      #nuebar       (22)\n",
    "                mceq_run.pman[12],       #numu         (23)\n",
    "                mceq_run.pman[-12],      #numubar      (24) \n",
    "                mceq_run.pman[22]#gamma        (25)\n",
    "               ]"
   ]
  },
  {
   "cell_type": "code",
   "execution_count": 16,
   "metadata": {},
   "outputs": [],
   "source": [
    "jtplot.style(theme=\"grade3\", context=\"notebook\", ticks=True, grid=False)\n",
    "#list of pdg ids \n",
    "list_particles_pdg_id=[]\n",
    "for i in range(0,len(list_particles)):\n",
    "    list_particles_pdg_id.append(list_particles[i].pdg_id)"
   ]
  },
  {
   "cell_type": "code",
   "execution_count": 36,
   "metadata": {},
   "outputs": [],
   "source": [
    "len(list_particles)*121\n",
    "from scipy.sparse import *"
   ]
  },
  {
   "cell_type": "code",
   "execution_count": 18,
   "metadata": {},
   "outputs": [],
   "source": [
    "import pickle\n",
    "#with open('/home/kruteesh/Desktop/Solar_neutrinos/energyloss.pickle', 'rb') as f:\n",
    "p_leptons = pickle.load(open('/home/kruteesh/Desktop/Solar_neutrinos/Energy_loss_1.pkl','rb'))\n",
    "#And the rate matrices:\n"
   ]
  },
  {
   "cell_type": "code",
   "execution_count": 19,
   "metadata": {},
   "outputs": [
    {
     "data": {
      "text/plain": [
       "dict_keys(['egrid', 'ebin', 'ewidth', '(11,22)', '(11,11)', '(11,13)', '(11,-13)', '(-11,22)', '(-11,-11)', '(-11,13)', '(-11,-13)', '(22,11)', '(22,-11)', '(22,22)', '(22,13)', '(22,-13)', '(13,22)', '(13,13)', '(-13,22)', '(-13,-13)', 'xsec 11', 'totIntLength 11', 'xsec -11', 'totIntLength -11', 'xsec 22', 'totIntLength 22', 'xsec 13', 'totIntLength 13', 'xsec -13', 'totIntLength -13', 'dEdX 11', 'dEdX -11', 'dEdX 13', 'dEdX -13', 'ion', 'equation'])"
      ]
     },
     "execution_count": 19,
     "metadata": {},
     "output_type": "execute_result"
    }
   ],
   "source": [
    "p_leptons.keys()"
   ]
  },
  {
   "cell_type": "code",
   "execution_count": 69,
   "metadata": {},
   "outputs": [],
   "source": [
    "\n",
    "\n",
    "class interactions:\n",
    "    def __init__(self,particles,particles_pdg_id):\n",
    "        self.particles=particles\n",
    "        self.particles_pdg_id=particles_pdg_id\n",
    "        self.p_loss_dict= pickle.load(open('/home/kruteesh/Desktop/Solar_neutrinos/Energy_loss_1.pkl','rb'))\n",
    "\n",
    "        self.emca_child=np.array([\n",
    "             mceq_run.pman[(13,0)],   #mu-          (13)\n",
    "                mceq_run.pman[(-13,0)],  #mu+          (14)\n",
    "                mceq_run.pman[-11],      #e+           (15)   \n",
    "                mceq_run.pman[11],  \n",
    "            mceq_run.pman[22]#e-           (16)\n",
    "            ])\n",
    "        self.emca_parent=np.array([\n",
    "             mceq_run.pman[(13,0)],   #mu-          (13)\n",
    "                mceq_run.pman[(-13,0)], #mu+          (14)\n",
    "                mceq_run.pman[-11],      #e+           (15)   \n",
    "                mceq_run.pman[11],  \n",
    "            mceq_run.pman[22]\n",
    "        ])\n",
    "        \n",
    "        \n",
    "        \n",
    "        \n",
    "    def E_loss_sec_par(self):\n",
    "        \"\"\"\"\"\n",
    "        A dictionary containing  the secondary particles wise yields of list_particles with losses\n",
    "        \"\"\"\"\"\n",
    "\n",
    "        p_lep={}\n",
    "        for child in self.emca_child:\n",
    "            p_lep[child.name,'ds']=np.empty((len(mceq_run.e_grid),len(mceq_run.e_grid)))\n",
    "            p_lep[child.name,'dn']=np.empty((len(mceq_run.e_grid),len(mceq_run.e_grid)))\n",
    "            \n",
    "            for i, parent in enumerate(self.particles):\n",
    "                if i==0:\n",
    "                    if child in parent.hadr_secondaries:\n",
    "                            \n",
    "                            p_lep[child.name,'ds']=parent.hadr_yields[child]*parent.inel_cross_section(mbarn=False)/ mceq_run.e_widths /np.pi\n",
    "                            p_lep[child.name,'dn']=parent.hadr_yields[child]/ mceq_run.e_widths /np.pi\n",
    "                            \n",
    "                    else:\n",
    "                            p_lep[child.name,'ds']=np.zeros((len(mceq_run.e_grid),len(mceq_run.e_grid)))\n",
    "                            p_lep[child.name,'dn']=np.zeros((len(mceq_run.e_grid),len(mceq_run.e_grid)))\n",
    "                             \n",
    "                else:\n",
    "                    if parent in self.emca_parent:\n",
    "\n",
    "                        s=str('('+str(child.pdg_id[0])+','+str(parent.pdg_id[0])+')')  \n",
    "                        if s in self.p_loss_dict.keys(): \n",
    "                            #print(p_lep[child.name,\"ds\"].shape,s)\n",
    "                            p_lep[child.name,'ds']=np.concatenate((p_lep[child.name,'ds'],(np.nan_to_num(self.p_loss_dict[s])\n",
    "                                                                  *self.p_loss_dict['xsec '+str(child.pdg_id[0])]/mceq_run.e_widths/np.pi )),axis=1)\n",
    "                            p_lep[child.name,'dn']=np.concatenate((p_lep[child.name,'dn'],(np.nan_to_num(self.p_loss_dict[s])\n",
    "                                                                  /mceq_run.e_widths/np.pi )),axis=1)\n",
    "\n",
    "                            \n",
    "                            #print(p_lep[child.name,\"ds\"].shape)\n",
    "                        else:\n",
    "                            p_lep[child.name,'ds']=np.concatenate((p_lep[child.name,'ds'],np.zeros((len(mceq_run.e_grid),len(mceq_run.e_grid)))),axis=1)\n",
    "                            p_lep[child.name,'dn']=np.concatenate((p_lep[child.name,'dn'],np.zeros((len(mceq_run.e_grid),len(mceq_run.e_grid)))),axis=1)\n",
    "                            \n",
    "                    else:\n",
    "                        if child in parent.hadr_secondaries:\n",
    "\n",
    "                            p_lep[child.name,'ds']=np.concatenate((p_lep[child.name,'ds'],parent.hadr_yields[child]*parent.inel_cross_section(mbarn=False) /mceq_run.e_widths / np.pi),axis=1)\n",
    "                            p_lep[child.name,'dn']=np.concatenate((p_lep[child.name,'dn'],parent.hadr_yields[child]/mceq_run.e_widths / np.pi),axis=1)\n",
    "                            \n",
    "                        else:\n",
    "                            p_lep[child.name,'ds']=np.concatenate((p_lep[child.name,'ds'],np.zeros((len(mceq_run.e_grid),len(mceq_run.e_grid)))),axis=1)\n",
    "                            p_lep[child.name,'dn']=np.concatenate((p_lep[child.name,'dn'],np.zeros((len(mceq_run.e_grid),len(mceq_run.e_grid)))),axis=1)\n",
    "                            \n",
    "            \n",
    "            p_lep[child.name,'rescale']=self.p_loss_dict['xsec '+str(child.pdg_id[0])]/np.sum(p_lep[child.name,'ds'].T*mceq_run.e_widths,axis=0)\n",
    "\n",
    "\n",
    "           \n",
    "        return p_lep\n",
    "\n",
    "\n",
    "        \n",
    "        \n",
    "        \n",
    "        \n",
    "        \n",
    "        \n",
    "        \n",
    "    def resclaing_factors(self):\n",
    "        \"\"\" corrects the differential xsec to correspond to the total\n",
    "\n",
    "        Parameters\n",
    "        ----------\n",
    "        particles : list\n",
    "            List of the particles of interest\n",
    "\n",
    "        Returns\n",
    "        -------\n",
    "        rescale : dic\n",
    "            Dictionary of rescaling factors for each type\n",
    "        \"\"\"\n",
    "    \n",
    "        rescale = {}\n",
    "        for particle in self.particles:\n",
    "            if particle not in self.emca_child:\n",
    "                all_dxsec_tmp = np.array(np.nan_to_num([\n",
    "                    particle.hadr_yields[child] *\n",
    "                    particle.inel_cross_section(mbarn=False) /  mceq_run.e_widths / np.pi\n",
    "                    for child in particle.hadr_secondaries\n",
    "                ]))\n",
    "                all_xsec_tmp = np.array([\n",
    "                        np.sum(dxsec.T * mceq_run.e_widths, axis=1)\n",
    "                        for dxsec in all_dxsec_tmp\n",
    "                    ])\n",
    "                #print(np.sum(all_xsec_tmp.T*mceq_run.e_widths, axis=0))\n",
    "                total_xsec_tmp = np.sum(all_xsec_tmp, axis=0)\n",
    "               \n",
    "                rescaling = np.nan_to_num(particle.inel_cross_section(mbarn=False) / total_xsec_tmp)\n",
    "                rescale[particle.name] = rescaling\n",
    "            else:\n",
    "                rescale[particle.name]=self.E_loss_sec_par()[particle.name,'rescale']\n",
    "        return rescale    \n",
    "    def store_data(self):\n",
    "        \"\"\"\n",
    "        check the dimensions\n",
    "\n",
    "        Parameters\n",
    "        ----------\n",
    "        particles : list\n",
    "            List of the particles of interest\n",
    "\n",
    "        Returns\n",
    "        -------\n",
    "        Matrix \n",
    "        \"\"\"\n",
    "        rescale = self.resclaing_factors()\n",
    "        final={}     \n",
    "        for particle in self.particles:\n",
    "                if particle not in self.emca_child:\n",
    "                    Data=np.empty((121,121))\n",
    "                    i=0\n",
    "                    for parent_particle in self.particles:\n",
    "                        if particle in parent_particle.hadr_secondaries:\n",
    "                            if i==0:\n",
    "                                Data=np.nan_to_num(parent_particle.hadr_yields[particle]  /mceq_run.e_widths / np.pi * rescale[parent_particle.name])\n",
    "                                i=1\n",
    "                            else:\n",
    "                                Data=np.concatenate((Data,parent_particle.hadr_yields[particle] /mceq_run.e_widths / np.pi * rescale[parent_particle.name]),axis=1)\n",
    "                        else:\n",
    "                            if i!=0:\n",
    "                                Data=np.concatenate((Data,np.zeros((len(mceq_run.e_grid), len(mceq_run.e_grid)))),axis=1)\n",
    "                            else:\n",
    "                                Data=np.zeros((len(mceq_run.e_grid), len(mceq_run.e_grid)))\n",
    "                                i=1\n",
    "\n",
    "\n",
    "                    final[particle.name]=Data\n",
    "                    \n",
    "                    \n",
    "                else:\n",
    "                   rescale_lep=np.array([])\n",
    "                   for i in range(0,len(self.particles)):\n",
    "                        rescale_lep=np.append(rescale_lep,self.E_loss_sec_par()[particle.name,'rescale'])\n",
    "                    \n",
    "                   final[particle.name]=self.E_loss_sec_par()[particle.name,'dn']*rescale_lep\n",
    "        Matrix=np.empty((121,121))\n",
    "        i=0\n",
    "        for p in final.keys():\n",
    "               \n",
    "\n",
    "                if i==0:\n",
    "                    Matrix=final[p]\n",
    "                    i=1\n",
    "                else:\n",
    "                \n",
    "                    Matrix=np.concatenate((Matrix,final[p]),axis=0)\n",
    "        return csr_matrix(Matrix)     \n",
    "            \n",
    "            #pickle.dump(Data,open('../data/Data'+str(particle.name)+'.pkl', \"wb\" ))"
   ]
  },
  {
   "cell_type": "code",
   "execution_count": 70,
   "metadata": {},
   "outputs": [
    {
     "name": "stderr",
     "output_type": "stream",
     "text": [
      "<ipython-input-69-18fa1893b74b>:117: RuntimeWarning: divide by zero encountered in true_divide\n",
      "  rescaling = np.nan_to_num(particle.inel_cross_section(mbarn=False) / total_xsec_tmp)\n",
      "<ipython-input-69-18fa1893b74b>:117: RuntimeWarning: invalid value encountered in true_divide\n",
      "  rescaling = np.nan_to_num(particle.inel_cross_section(mbarn=False) / total_xsec_tmp)\n"
     ]
    }
   ],
   "source": [
    "D=interactions(list_particles,list_particles_pdg_id).store_data()"
   ]
  },
  {
   "cell_type": "code",
   "execution_count": 76,
   "metadata": {},
   "outputs": [
    {
     "data": {
      "text/plain": [
       "<matplotlib.lines.Line2D at 0x7f77a2683c40>"
      ]
     },
     "execution_count": 76,
     "metadata": {},
     "output_type": "execute_result"
    },
    {
     "data": {
      "image/png": "[encoded data removed]",
      "text/plain": [
       "<Figure size 576x504 with 1 Axes>"
      ]
     },
     "metadata": {},
     "output_type": "display_data"
    }
   ],
   "source": [
    "plt.spy(D)"
   ]
  },
  {
   "cell_type": "code",
   "execution_count": 27,
   "metadata": {},
   "outputs": [
    {
     "data": {
      "image/png": "[encoded data removed]",
      "text/plain": [
       "<Figure size 576x504 with 1 Axes>"
      ]
     },
     "metadata": {},
     "output_type": "display_data"
    }
   ],
   "source": [
    "plt.loglog(mceq_run.e_grid,mceq_run.pman[2212].cs)\n",
    "plt.xlim(1e3,)\n",
    "plt.grid()"
   ]
  },
  {
   "cell_type": "code",
   "execution_count": 10,
   "metadata": {},
   "outputs": [],
   "source": [
    "E_loss_par=np.array([\n",
    "             mceq_run.pman[(13,0)],   #mu-          (13)\n",
    "                mceq_run.pman[(-13,0)],  #mu+          (14)\n",
    "                mceq_run.pman[-11],      #e+           (15)   \n",
    "                mceq_run.pman[11],       #e-           (16)\n",
    "                mceq_run.pman[22]\n",
    "])\n"
   ]
  },
  {
   "cell_type": "code",
   "execution_count": null,
   "metadata": {},
   "outputs": [],
   "source": []
  },
  {
   "cell_type": "code",
   "execution_count": 11,
   "metadata": {},
   "outputs": [],
   "source": [
    "j=0\n",
    "ind={}\n",
    "for i in list_particles:\n",
    "    ind[i.name,'up']=0+j\n",
    "    ind[i.name,'low']=121+j\n",
    "    j=j+122"
   ]
  },
  {
   "cell_type": "code",
   "execution_count": 12,
   "metadata": {},
   "outputs": [
    {
     "data": {
      "text/plain": [
       "array([[0., 0., 0., ..., 0., 0., 0.],\n",
       "       [0., 0., 0., ..., 0., 0., 0.],\n",
       "       [0., 0., 0., ..., 0., 0., 0.],\n",
       "       ...,\n",
       "       [0., 0., 0., ..., 0., 0., 0.],\n",
       "       [0., 0., 0., ..., 0., 0., 0.],\n",
       "       [0., 0., 0., ..., 0., 0., 0.]])"
      ]
     },
     "execution_count": 12,
     "metadata": {},
     "output_type": "execute_result"
    }
   ],
   "source": [
    "np.zeros(((len(list_particles)+1)*len(mceq_run.e_grid),(len(list_particles)+1)*len(mceq_run.e_grid)))"
   ]
  },
  {
   "cell_type": "code",
   "execution_count": 13,
   "metadata": {},
   "outputs": [],
   "source": [
    "p_lep={}\n",
    "s=[]\n",
    "for p in E_loss_par:\n",
    "    \n",
    "    p_lep[p.name,'ds']=np.zeros((len(mceq_run.e_grid),len(mceq_run.e_grid)))\n",
    "    for q in E_loss_par:\n",
    "        string=str('('+str(p.pdg_id[0])+','+str(q.pdg_id[0])+')')\n",
    "        if string in s:\n",
    "            continue\n",
    "        else:\n",
    "                s.append(string)"
   ]
  },
  {
   "cell_type": "code",
   "execution_count": 14,
   "metadata": {},
   "outputs": [
    {
     "ename": "NameError",
     "evalue": "name 'particles' is not defined",
     "output_type": "error",
     "traceback": [
      "\u001b[0;31m---------------------------------------------------------------------------\u001b[0m",
      "\u001b[0;31mNameError\u001b[0m                                 Traceback (most recent call last)",
      "\u001b[0;32m<ipython-input-14-016aa314979c>\u001b[0m in \u001b[0;36m<module>\u001b[0;34m\u001b[0m\n\u001b[1;32m      1\u001b[0m \u001b[0;32mfor\u001b[0m \u001b[0mss\u001b[0m \u001b[0;32min\u001b[0m \u001b[0ms\u001b[0m\u001b[0;34m:\u001b[0m\u001b[0;34m\u001b[0m\u001b[0;34m\u001b[0m\u001b[0m\n\u001b[0;32m----> 2\u001b[0;31m     \u001b[0;32mif\u001b[0m \u001b[0mss\u001b[0m \u001b[0;32min\u001b[0m \u001b[0mparticles\u001b[0m\u001b[0;34m.\u001b[0m\u001b[0mkeys\u001b[0m\u001b[0;34m(\u001b[0m\u001b[0;34m)\u001b[0m\u001b[0;34m:\u001b[0m\u001b[0;34m\u001b[0m\u001b[0;34m\u001b[0m\u001b[0m\n\u001b[0m\u001b[1;32m      3\u001b[0m         \u001b[0mprint\u001b[0m\u001b[0;34m(\u001b[0m\u001b[0mss\u001b[0m\u001b[0;34m)\u001b[0m\u001b[0;34m\u001b[0m\u001b[0;34m\u001b[0m\u001b[0m\n",
      "\u001b[0;31mNameError\u001b[0m: name 'particles' is not defined"
     ]
    }
   ],
   "source": [
    "for ss in s:\n",
    "    if ss in particles.keys():\n",
    "        print(ss)"
   ]
  },
  {
   "cell_type": "code",
   "execution_count": null,
   "metadata": {},
   "outputs": [],
   "source": [
    "\n",
    "\n"
   ]
  },
  {
   "cell_type": "code",
   "execution_count": null,
   "metadata": {},
   "outputs": [],
   "source": [
    "\n"
   ]
  },
  {
   "cell_type": "code",
   "execution_count": null,
   "metadata": {},
   "outputs": [],
   "source": [
    "x=E_loss_sec_par(E_loss_par,list_particles,particles)"
   ]
  },
  {
   "cell_type": "code",
   "execution_count": null,
   "metadata": {},
   "outputs": [],
   "source": [
    "(x['e-','ds'].shape)"
   ]
  },
  {
   "cell_type": "code",
   "execution_count": null,
   "metadata": {},
   "outputs": [],
   "source": [
    "np.sum(x.T*mceq_run.e_grid,axis=0).shape"
   ]
  },
  {
   "cell_type": "code",
   "execution_count": null,
   "metadata": {},
   "outputs": [],
   "source": []
  },
  {
   "cell_type": "code",
   "execution_count": null,
   "metadata": {},
   "outputs": [],
   "source": []
  },
  {
   "cell_type": "code",
   "execution_count": null,
   "metadata": {},
   "outputs": [],
   "source": []
  },
  {
   "cell_type": "code",
   "execution_count": null,
   "metadata": {},
   "outputs": [],
   "source": []
  },
  {
   "cell_type": "code",
   "execution_count": null,
   "metadata": {},
   "outputs": [],
   "source": [
    "    p_lep[loss[0].name,'ds']=np.concatenate(p_lep[loss[0].name,'ds'],np.nan_to_num(particles['(13,13)']),axis=0)\n",
    "    p_lep[loss[0].name,'ds']=np.concatenate(p_lep[loss[0].name,'ds'],np.nan_to_num(particles['(22,13)']),axis=0)\n",
    "    p_lep[loss[0].name,'ds'][ind[mceq_run.pman[13].name,'up']:ind[mceq_run.pman[13].name,'low']]=np.nan_to_num(particles['(13,13)'])\n",
    "    p_lep[loss[0].name,'ds'][ind[mceq_run.pman[22].name,'up']:ind[mceq_run.pman[22].name,'low']]=np.nan_to_num(particles['(22,13)'])\n",
    "\n",
    "    p_lep[loss[0].name,'s']=particles['xsec 13']\n",
    "\n",
    "    p_lep[loss[1].name,'ds']=np.concatenate(p_lep[loss[1].name,'ds'],particles['(22,-13)'],axis=0)\n",
    "    p_lep[loss[1].name,'ds']=np.concatenate(p_lep[loss[1].name,'ds'],particles['(-13,-13)'],axis=0)\n",
    "    \n",
    "    p_lep[loss[1].name,'ds'][ind[mceq_run.pman[-13].name,'up']:ind[mceq_run.pman[-13].name,'low']]=np.nan_to_num(particles['(-13,-13)'])\n",
    "    p_lep[loss[1].name,'ds'][ind[mceq_run.pman[11].name,'up']:ind[mceq_run.pman[11].name,'low']]=np.nan_to_num(particles['(11,-13)'])\n",
    "    p_lep[loss[1].name,'s']=particles['xsec -13']\n",
    "\n",
    "    p_lep[loss[2].name,'ds'][ind[mceq_run.pman[22].name,'up']:ind[mceq_run.pman[22].name,'low']]=np.nan_to_num(particles['(22,-11'])\n",
    "    p_lep[loss[2].name,'ds'][ind[mceq_run.pman[-11].name,'up']:ind[mceq_run.pman[-11].name,'low']]=np.nan_to_num(particles['(-11,-11)'])\n",
    "    p_lep[loss[2].name,'s']=particles['xsec -11']\n",
    "\n",
    "    p_lep[loss[3].name,'ds'][ind[mceq_run.pman[22].name,'up']:ind[mceq_run.pman[22].name,'low']]=np.nan_to_num(particles['(22,11)'])\n",
    "    p_lep[loss[3].name,'ds'][ind[mceq_run.pman[11].name,'up']:ind[mceq_run.pman[11].name,'low']]=np.nan_to_num(particles['(11,11)'])\n",
    "    p_lep[loss[3].name,'s']=particles['xsec 11']\n",
    "\n",
    "    p_lep[loss[4].name,'ds'][ind[mceq_run.pman[22].name,'up']:ind[mceq_run.pman[22].name,'low']]=np.nan_to_num(particles['(22,22)'])\n",
    "    p_lep[loss[4].name,'ds'][ind[mceq_run.pman[13].name,'up']:ind[mceq_run.pman[13].name,'low']]=np.nan_to_num(particles['(13,22)'])\n",
    "    p_lep[loss[4].name,'ds'][ind[mceq_run.pman[11].name,'up']:ind[mceq_run.pman[11].name,'low']]=np.nan_to_num(particles['(11,22)'])\n",
    "    p_lep[loss[4].name,'s']=particles['xsec 22']\n"
   ]
  },
  {
   "cell_type": "code",
   "execution_count": null,
   "metadata": {},
   "outputs": [],
   "source": [
    "aa=particles['(-13,-13)']-particles['(13,13)']\n",
    "if aa.any()!=0:\n",
    "    print('nope')\n",
    "else:\n",
    "    print('alright')"
   ]
  },
  {
   "cell_type": "code",
   "execution_count": null,
   "metadata": {},
   "outputs": [],
   "source": []
  },
  {
   "cell_type": "code",
   "execution_count": null,
   "metadata": {},
   "outputs": [],
   "source": []
  },
  {
   "cell_type": "code",
   "execution_count": null,
   "metadata": {},
   "outputs": [],
   "source": [
    "plt.spy(Matrix)"
   ]
  },
  {
   "cell_type": "code",
   "execution_count": null,
   "metadata": {},
   "outputs": [],
   "source": []
  },
  {
   "cell_type": "code",
   "execution_count": null,
   "metadata": {},
   "outputs": [],
   "source": []
  },
  {
   "cell_type": "code",
   "execution_count": null,
   "metadata": {},
   "outputs": [],
   "source": []
  },
  {
   "cell_type": "code",
   "execution_count": null,
   "metadata": {},
   "outputs": [],
   "source": []
  },
  {
   "cell_type": "code",
   "execution_count": null,
   "metadata": {},
   "outputs": [],
   "source": []
  },
  {
   "cell_type": "code",
   "execution_count": null,
   "metadata": {},
   "outputs": [],
   "source": []
  }
 ],
 "metadata": {
  "kernelspec": {
   "display_name": "Python 3 (ipykernel)",
   "language": "python",
   "name": "python3"
  },
  "language_info": {
   "codemirror_mode": {
    "name": "ipython",
    "version": 3
   },
   "file_extension": ".py",
   "mimetype": "text/x-python",
   "name": "python",
   "nbconvert_exporter": "python",
   "pygments_lexer": "ipython3",
   "version": "3.8.5"
  }
 },
 "nbformat": 4,
 "nbformat_minor": 4
}
