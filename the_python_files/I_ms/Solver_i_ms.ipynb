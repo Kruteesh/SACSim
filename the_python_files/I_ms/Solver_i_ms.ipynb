{
 "cells": [
  {
   "cell_type": "code",
   "execution_count": 1,
   "metadata": {},
   "outputs": [
    {
     "data": {
      "text/plain": [
       "'\"\"from interaction_matrices import interactions\\nfrom decay_matrices import decay_class\\nfrom rho_X import rho\\nimport Lambdas\\n'"
      ]
     },
     "execution_count": 1,
     "metadata": {},
     "output_type": "execute_result"
    }
   ],
   "source": [
    "\"\"\"\"\"from interaction_matrices import interactions\n",
    "from decay_matrices import decay_class\n",
    "from rho_X import rho\n",
    "import Lambdas\n",
    "\"\"\"\"\""
   ]
  },
  {
   "cell_type": "code",
   "execution_count": 1,
   "metadata": {},
   "outputs": [],
   "source": [
    "import Lambdas_i_ms\n",
    "from differential_i_ms import Solver"
   ]
  },
  {
   "cell_type": "code",
   "execution_count": 2,
   "metadata": {},
   "outputs": [],
   "source": [
    "from scipy.integrate import odeint\n",
    "from scipy.interpolate import UnivariateSpline\n",
    "from scipy.integrate import solve_ivp\n",
    "from scipy.sparse import *\n",
    "import time\n",
    "import numpy as np\n",
    "import scipy\n",
    "import matplotlib.pyplot as plt\n",
    "import pandas as pd\n",
    "import pickle\n",
    "import json\n",
    "from jupyterthemes import jtplot\n",
    "\n",
    "\n",
    "# MCEq Imports\n",
    "from MCEq.particlemanager import ParticleManager\n",
    "import MCEq.core \n",
    "from MCEq.core import MCEqRun\n",
    "from MCEq.data import Decays\n",
    "import mceq_config as config\n",
    "#import primary model choices\n",
    "import crflux.models as pm\n",
    "\n",
    "\n",
    "\n",
    "config.debug_level = 0\n",
    "\n",
    "\n",
    "\n"
   ]
  },
  {
   "cell_type": "code",
   "execution_count": 3,
   "metadata": {},
   "outputs": [],
   "source": [
    "\n",
    "# In[ ]:\n",
    "Name=[r\"$P^{+}$\",\n",
    "          r\"$\\overline{P}^{-}$\",\n",
    "          r\"$n^0$\",\n",
    "          r\"$\\overline{n}$\",\n",
    "          r\"$\\pi^{+}$\",\n",
    "          r\"$\\pi^{-}$\",\n",
    "          r\"$K_{S}^0$\"\n",
    "          ,r\"$K_{L}^0$\",\n",
    "          r\"$K^{+}$\",\n",
    "          r\"$K^{-}$\",\n",
    "          r\"$\\pi^{0}$\",\n",
    "          r\"$\\Lambda_{r}^{0}$\",\n",
    "          r'$\\Lambda^{0}$',\n",
    "          r\"$\\mu^{-}$\",\n",
    "          r\"$\\mu^{+}$\",\n",
    "          r\"$e^{+}$\",\n",
    "          r\"$e^{-}$\",\n",
    "          r\"$\\nu_{e}$\",\n",
    "          r\"$\\overline{\\nu}_{e}$\",\n",
    "          r\"$\\nu_{\\mu}$\"\n",
    "          ,r\"$\\overline{\\nu}_{\\mu}$\" ,\n",
    "          r'$\\gamma$'\n",
    "\n",
    "    ]\n",
    "\n"
   ]
  },
  {
   "cell_type": "code",
   "execution_count": null,
   "metadata": {},
   "outputs": [],
   "source": []
  },
  {
   "cell_type": "code",
   "execution_count": 4,
   "metadata": {},
   "outputs": [
    {
     "name": "stdout",
     "output_type": "stream",
     "text": [
      "<codecs.StreamReaderWriter object at 0x7f10e821d100>\n",
      "[5.5656e+10]\n"
     ]
    },
    {
     "data": {
      "text/plain": [
       "'\"\"\\nx2rho={}\\nfinal_X={}#the dictionaries\\nfor h in new_h:\\n    rhh=rho(R_sun,h,r_ratio,rho_data)\\n    x2rho[h]=rhh.X2rho()\\n    final_X[h]=rhh.final_X()\\n  \\n    \\n# In[34]:\\n\\n'"
      ]
     },
     "execution_count": 4,
     "metadata": {},
     "output_type": "execute_result"
    }
   ],
   "source": [
    "import codecs\n",
    "file = codecs.open('/home/kruteesh/Desktop/Solar_neutrinos/rho.txt', 'r', 'UTF-8')\n",
    "print(file)\n",
    "tline = file.readlines()\n",
    "b=tline[5:]\n",
    "r_ratio=[]\n",
    "rho_data=[]\n",
    "c=[]\n",
    "for i in b:\n",
    "    r_ratio.append(float(i.split(' ')[1]))\n",
    "\n",
    "    rho_data.append(float(i.split(' ')[3]))\n",
    "\n",
    "\"The Sun and the X for the path from sun \"\n",
    "R_sun=6.957e10\n",
    "h_list=[0.8]\n",
    "\n",
    "new_h=np.array([h*R_sun for h in h_list])\n",
    "print(new_h)\n",
    "\"\"\"\"\"\n",
    "x2rho={}\n",
    "final_X={}#the dictionaries\n",
    "for h in new_h:\n",
    "    rhh=rho(R_sun,h,r_ratio,rho_data)\n",
    "    x2rho[h]=rhh.X2rho()\n",
    "    final_X[h]=rhh.final_X()\n",
    "  \n",
    "    \n",
    "# In[34]:\n",
    "\n",
    "\"\"\"\"\""
   ]
  },
  {
   "cell_type": "code",
   "execution_count": 5,
   "metadata": {},
   "outputs": [],
   "source": [
    " mceq_run= MCEqRun(\n",
    "    #provide the string of the interaction model\n",
    "    interaction_model=\"SIBYLL23CPP\",\n",
    "    #primary cosmic ray flux model\n",
    "    primary_model = (pm.HillasGaisser2012, \"H3a\"),\n",
    "    \n",
    "    # Zenith angle in degrees. 0=vertical, 90=horizontal\n",
    "    theta_deg=0.0\n",
    "    \n",
    "    )\n",
    "I_models=[\"EPOSLHC\",\"QGSJETII04\",\"SIBYLL23C03\"]\n",
    "r={}"
   ]
  },
  {
   "cell_type": "code",
   "execution_count": 6,
   "metadata": {
    "scrolled": true
   },
   "outputs": [
    {
     "name": "stdout",
     "output_type": "stream",
     "text": [
      "6.251988150598832e-25\n",
      "S6.251988150598832e-25\n"
     ]
    },
    {
     "name": "stderr",
     "output_type": "stream",
     "text": [
      "/home/kruteesh/Desktop/Solar_neutrinos/diffsec/the_python_files/Untitled Folder/interaction_matrices.py:184: RuntimeWarning: divide by zero encountered in true_divide\n",
      "  rescaling = np.nan_to_num(particle.inel_cross_section(mbarn=False) / total_xsec_tmp)\n",
      "/home/kruteesh/Desktop/Solar_neutrinos/diffsec/the_python_files/Untitled Folder/interaction_matrices.py:184: RuntimeWarning: invalid value encountered in true_divide\n",
      "  rescaling = np.nan_to_num(particle.inel_cross_section(mbarn=False) / total_xsec_tmp)\n",
      "/home/kruteesh/Desktop/Solar_neutrinos/diffsec/the_python_files/Untitled Folder/decay_matrices.py:61: RuntimeWarning: divide by zero encountered in true_divide\n",
      "  c = np.divide(a, b)\n",
      "/home/kruteesh/Desktop/Solar_neutrinos/diffsec/the_python_files/Untitled Folder/decay_matrices.py:61: RuntimeWarning: invalid value encountered in true_divide\n",
      "  c = np.divide(a, b)\n"
     ]
    },
    {
     "name": "stdout",
     "output_type": "stream",
     "text": [
      "6.251988150598832e-25\n",
      "55656000000.0\n",
      "4626.029349088669\n",
      "5.725806291835406e-25\n",
      "S5.725806291835406e-25\n",
      "5.725806291835406e-25\n",
      "55656000000.0\n",
      "4162.185930013657\n",
      "5.845941370755435e-25\n",
      "S5.845941370755435e-25\n",
      "5.845941370755435e-25\n",
      "55656000000.0\n",
      "4822.6093690395355\n"
     ]
    }
   ],
   "source": [
    "for i_m in I_models:\n",
    "    mceq_run.set_interaction_model(i_m)\n",
    "    # Launcing mceq\n",
    "    print(mceq_run.pman[2212].cs[-1])\n",
    "    list_particles=[mceq_run.pman[2212],     #p+           (0)\n",
    "                    mceq_run.pman[-2212],     #pbar-        (1)\n",
    "                    mceq_run.pman[2112],     #n            (2)\n",
    "                    mceq_run.pman[-2112],    #nbar         (3)\n",
    "                    mceq_run.pman[211],      #pi+          (4)\n",
    "                    mceq_run.pman[-211],     #pi-          (5)\n",
    "                    mceq_run.pman[310],      #K_S0         (6) \n",
    "                    mceq_run.pman[130],      #K_L0         (7)\n",
    "                    mceq_run.pman[321],      #K+           (8)\n",
    "                    mceq_run.pman[-321],     #K-           (9)\n",
    "                    mceq_run.pman[111],      #pi0          (10)\n",
    "                    mceq_run.pman[-3122],    #Lambdbar0    (11)\n",
    "                    mceq_run.pman[3122],     #Lambda0      (12)\n",
    "                    mceq_run.pman[13],   #mu-          (13)\n",
    "                    mceq_run.pman[-13],  #mu+          (14)\n",
    "                    mceq_run.pman[-11],      #e+           (15)   \n",
    "                    mceq_run.pman[11],       #e-           (16)\n",
    "                    mceq_run.pman[12],       #nue         (23)\n",
    "                    mceq_run.pman[-12],      #nuebar      (24)\n",
    "                    mceq_run.pman[14],       #numu         (21)\n",
    "                    mceq_run.pman[-14],      #numubar       (22)\n",
    "                    mceq_run.pman[22]#gamma        (25)\n",
    "                   ]\n",
    "\n",
    "    jtplot.style(theme=\"grade3\", context=\"notebook\", ticks=True, grid=False)\n",
    "    \"\"\"\"\"\n",
    "    For indices of the particles in phi \n",
    "    \"\"\"\"\"\n",
    "    j=0\n",
    "    ind={}\n",
    "    for i in list_particles:\n",
    "        ind[i.name,'up']=0+j\n",
    "        ind[i.name,'low']=121+j\n",
    "        j=j+121\n",
    "\n",
    "\n",
    "    \"\"\"\"\"\n",
    "    The primary fluxes\n",
    "    \"\"\"\"\"\n",
    "    phi=np.zeros(len(list_particles)*121)\n",
    "    phi0_p = (\n",
    "        mceq_run._phi0[mceq_run.pman[2212].lidx:mceq_run.pman[2212].uidx]\n",
    "    )\n",
    "    phi0_n=(\n",
    "        mceq_run._phi0[mceq_run.pman[2112].lidx:mceq_run.pman[2112].uidx]\n",
    "    )\n",
    "    phi[242:363]=phi0_n\n",
    "    phi[0:121]=phi0_p\n",
    "\n",
    "\n",
    "    # In[31]:\n",
    "\n",
    "\n",
    "    phi0_mu=mceq_run.e_grid**(-2)\n",
    "    phi_test=np.zeros(len(list_particles)*121)\n",
    "    phi_test[ind[\"mu+\",\"up\"]:ind[\"mu+\",\"low\"]]=phi0_mu\n",
    "\n",
    "\n",
    "    #list of pdg ids \n",
    "    list_particles_pdg_id=[]\n",
    "    for i in range(0,len(list_particles)):\n",
    "        list_particles_pdg_id.append(list_particles[i].pdg_id[0])\n",
    "\n",
    "\n",
    "\n",
    "    \n",
    "    r[i_m]=Solver(i_m,list_particles,R_sun,new_h,phi).solver(r_ratio,rho_data)"
   ]
  },
  {
   "cell_type": "code",
   "execution_count": 7,
   "metadata": {},
   "outputs": [],
   "source": [
    "pickle.dump(r,open(\"03,02,21_i_ms.pkl\",\"wb\"))\n"
   ]
  },
  {
   "cell_type": "code",
   "execution_count": 8,
   "metadata": {},
   "outputs": [
    {
     "data": {
      "text/plain": [
       "dict_keys([55656000000.0])"
      ]
     },
     "execution_count": 8,
     "metadata": {},
     "output_type": "execute_result"
    }
   ],
   "source": [
    "r[I_models[0]].keys()"
   ]
  },
  {
   "cell_type": "code",
   "execution_count": 9,
   "metadata": {},
   "outputs": [
    {
     "name": "stdout",
     "output_type": "stream",
     "text": [
      "6957000000.0\n",
      "48699000000.0\n"
     ]
    }
   ],
   "source": [
    "X,x2rho=Solver(I_models,list_particles,R_sun,new_h,phi).X_rho(r_ratio,rho_data)"
   ]
  },
  {
   "cell_type": "code",
   "execution_count": 22,
   "metadata": {},
   "outputs": [
    {
     "data": {
      "text/plain": [
       "0.1"
      ]
     },
     "execution_count": 22,
     "metadata": {},
     "output_type": "execute_result"
    }
   ],
   "source": [
    "6957000000.0/R_sun"
   ]
  },
  {
   "cell_type": "code",
   "execution_count": 11,
   "metadata": {},
   "outputs": [],
   "source": [
    "\n",
    "# In[33]:\n",
    "\n",
    "\n",
    "#plt.figure(figsize=(11,11))\n",
    "small_list=[\n",
    "                #mceq_run.pman[(13,0)],\n",
    "                mceq_run.pman[-13],\n",
    "    #mceq_run.pman[11],\n",
    "    mceq_run.pman[-11],\n",
    "                #mceq_run.pman[211],       #numu        (21)\n",
    "                #mceq_run.pman[130],\n",
    "                #mceq_run.pman[321],\n",
    "                #mceq_run.pman[(-13,0)],  #mu+          (14)\n",
    "                #mceq_run.pman[211],      #pi+          (4)\n",
    "               # mceq_run.pman[-211],     #pi-          (5)\n",
    "               # mceq_run.pman[111], #pi0          (10)\n",
    "                #mceq_run.pman[14],       #nue          (21)\n",
    "                mceq_run.pman[-14],      #antinue       (22)\n",
    "                #mceq_run.pman[12],       #numu         (23)\n",
    "                mceq_run.pman[-12]      #antinumu      (24) \n",
    "    \n",
    "]\n",
    "ls=['r--','g--','k--','c--','b--','y--','r-.','g-.','k-.','c-.','b-.','y-.','r-','g-','b-','c-','k-'\n",
    "    ,'y-','r.','g.','k.','y.','c.','b.'\n",
    "   ]"
   ]
  },
  {
   "cell_type": "code",
   "execution_count": null,
   "metadata": {},
   "outputs": [],
   "source": []
  },
  {
   "cell_type": "code",
   "execution_count": null,
   "metadata": {},
   "outputs": [],
   "source": []
  },
  {
   "cell_type": "code",
   "execution_count": 18,
   "metadata": {},
   "outputs": [
    {
     "data": {
      "text/plain": [
       "(2662,)"
      ]
     },
     "execution_count": 18,
     "metadata": {},
     "output_type": "execute_result"
    }
   ],
   "source": [
    "r[I_models[0]][0.7*R_sun][-1].shape\n"
   ]
  },
  {
   "cell_type": "code",
   "execution_count": 21,
   "metadata": {
    "scrolled": true
   },
   "outputs": [
    {
     "data": {
      "image/png": "[encoded data removed]",
      "text/plain": [
       "<Figure size 576x504 with 1 Axes>"
      ]
     },
     "metadata": {},
     "output_type": "display_data"
    }
   ],
   "source": [
    "p=mceq_run.pman[12]\n",
    "for i,im in enumerate(I_models):\n",
    "    \n",
    "   \n",
    "    bb_1=(r[im][0.7*R_sun])\n",
    "         \n",
    "       # bb_2=np.transpose(sol_ivp_csr[h_list[i+1]*R_sun]['y'])\n",
    "        #phi_ratio=bb_1[-1][ind[p.name,'up']:ind[p.name,'low']]/ bb_2[-1][ind[p.name,'up']:ind[p.name,'low']]\n",
    "    rr=(bb_1[-1][ind[p.name,'up']:ind[p.name,'low']])\n",
    "    #print(rr)  \n",
    "        #rr=rr*(mceq_run.e_grid**3)\n",
    "    plt.plot(mceq_run.e_grid,rr,label=p.name+' '+im)\n",
    "    #print(np.sum(rr*mceq_run.e_widths,axis=0))\n",
    "    #phi_t.append(abs(np.sum(rr*mceq_run.e_widths,axis=0)))   \n",
    "\n",
    "#plt.scatter(h_list[::-1],\n",
    "                 #phi_t[::-1],label=p.name)\n",
    "        \n",
    "   # plt.plot(mceq_run.e_grid,phi[ind[\"p+\",\"up\"]:ind[\"p+\",\"low\"]],\"c-.\",label=\"p+ initial \")\n",
    "\n",
    "    #plt.title(r\" max X =  \"+ '{:e}'.format(X[new_h[i]][-1]))\n",
    "plt.xlabel(\"E GeV\")\n",
    "plt.ylabel(r'$\\frac{d\\Phi}{dE}$')\n",
    "        #plt.ylim((1e-85,1e3))\n",
    "plt.xlim((1e1,1e7))\n",
    "plt.legend()\n",
    "plt.grid()\n",
    "plt.xscale(\"log\")\n",
    "plt.yscale(\"log\")\n",
    "   # plt.savefig('/home/kruteesh/Desktop/Solar_neutrinos/diffsec/pics/16,01,21/'+str(h_list[i])+'.png')\n",
    "\n",
    "\n",
    "# In[48]:\n",
    "\n",
    "\n"
   ]
  },
  {
   "cell_type": "code",
   "execution_count": null,
   "metadata": {},
   "outputs": [],
   "source": []
  },
  {
   "cell_type": "code",
   "execution_count": null,
   "metadata": {},
   "outputs": [],
   "source": [
    "import matplotlib.pyplot as plt\n",
    "import numpy as np\n",
    "phi_t=[]\n",
    "p=mceq_run.pman[14]\n",
    "for im in I_models:\n",
    "    bb_1=(r[im][0].T)\n",
    "    rr=(bb_1[-1][ind[p.name,'up']:ind[p.name,'low']])\n",
    "    print(np.sum(rr*mceq_run.e_widths))\n",
    "    phi_t.append(abs(np.sum(rr*mceq_run.e_widths)))\n",
    "\n",
    "fig, ax = plt.subplots()\n",
    "hh=h_list[::-1]\n",
    "ax.scatter(,phi_t,label=p.name)\n",
    "#ax.set_xlim(5, 0)  # decreasing time\n",
    "#ax.set_yscale(\"log\")\n",
    "ax.set_xlabel(\"h/R\")\n",
    "ax.set_ylabel(r\"$\\Phi$\")\n",
    "ax.grid(True)\n",
    "ax.legend()\n",
    "plt.show()"
   ]
  },
  {
   "cell_type": "code",
   "execution_count": null,
   "metadata": {},
   "outputs": [],
   "source": [
    "h_list[::-1]"
   ]
  },
  {
   "cell_type": "code",
   "execution_count": null,
   "metadata": {},
   "outputs": [],
   "source": [
    "plt.plot(r_ratio,rho_data)\n",
    "plt.xlabel(\"R/R_sun\")\n",
    "plt.ylabel(r\"$\\rho_{sun}$   g/$cm^3$\")\n",
    "#plt.ylim((140,160))\n",
    "#plt.xlim((-0.005,0.02))"
   ]
  },
  {
   "cell_type": "code",
   "execution_count": null,
   "metadata": {},
   "outputs": [],
   "source": []
  }
 ],
 "metadata": {
  "kernelspec": {
   "display_name": "Python 3",
   "language": "python",
   "name": "python3"
  },
  "language_info": {
   "codemirror_mode": {
    "name": "ipython",
    "version": 3
   },
   "file_extension": ".py",
   "mimetype": "text/x-python",
   "name": "python",
   "nbconvert_exporter": "python",
   "pygments_lexer": "ipython3",
   "version": "3.8.5"
  }
 },
 "nbformat": 4,
 "nbformat_minor": 4
}
